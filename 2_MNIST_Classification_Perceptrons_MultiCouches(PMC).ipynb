{
 "cells": [
  {
   "cell_type": "markdown",
   "metadata": {},
   "source": [
    "# Reseaux de neurones Artificiels"
   ]
  },
  {
   "cell_type": "code",
   "execution_count": 1,
   "metadata": {},
   "outputs": [],
   "source": [
    "# To support both python 2 and python 3\n",
    "from __future__ import division, print_function, unicode_literals\n",
    "\n",
    "# Common imports\n",
    "import numpy as np\n",
    "import os\n",
    "\n",
    "# to make this notebook's output stable across runs\n",
    "def reset_graph(seed=42):\n",
    "    tf.reset_default_graph()\n",
    "    tf.set_random_seed(seed)\n",
    "    np.random.seed(seed)\n",
    "\n",
    "# To plot pretty figures\n",
    "%matplotlib inline\n",
    "import matplotlib\n",
    "import matplotlib.pyplot as plt\n",
    "plt.rcParams['axes.labelsize'] = 14\n",
    "plt.rcParams['xtick.labelsize'] = 12\n",
    "plt.rcParams['ytick.labelsize'] = 12\n",
    "\n",
    "# Where to save the figures\n",
    "PROJECT_ROOT_DIR = \".\"\n",
    "IMAGES_PATH = os.path.join(\"RNA_Perceptron\", \"images\")\n",
    "\n",
    "def save_fig(fig_id, tight_layout=True, images_path=IMAGES_PATH):\n",
    "    if not os.path.isdir(images_path):\n",
    "        os.makedirs(images_path)\n",
    "    path = os.path.join(images_path, fig_id + \".png\")\n",
    "    print(\"Saving figure\", fig_id)\n",
    "    if tight_layout:\n",
    "        plt.tight_layout()\n",
    "    plt.savefig(path, format='png', dpi=300)"
   ]
  },
  {
   "cell_type": "markdown",
   "metadata": {},
   "source": [
    "# Perceptrons"
   ]
  },
  {
   "cell_type": "code",
   "execution_count": 2,
   "metadata": {},
   "outputs": [
    {
     "name": "stderr",
     "output_type": "stream",
     "text": [
      "C:\\Programmes\\Anaconda\\envs\\ngtv\\lib\\site-packages\\sklearn\\linear_model\\stochastic_gradient.py:166: FutureWarning: max_iter and tol parameters have been added in Perceptron in 0.19. If both are left unset, they default to max_iter=5 and tol=None. If tol is not None, max_iter defaults to max_iter=1000. From 0.21, default max_iter will be 1000, and default tol will be 1e-3.\n",
      "  FutureWarning)\n"
     ]
    }
   ],
   "source": [
    "import numpy as np\n",
    "from sklearn.datasets import load_iris\n",
    "from sklearn.linear_model import Perceptron\n",
    "\n",
    "iris = load_iris()\n",
    "X = iris.data[:, (2, 3)]  # petal length, petal width\n",
    "y = (iris.target == 0).astype(np.int) # setosa ?\n",
    "\n",
    "per_clf = Perceptron(random_state=42)\n",
    "per_clf.fit(X, y)\n",
    "\n",
    "y_pred = per_clf.predict([[2, 0.5]])"
   ]
  },
  {
   "cell_type": "code",
   "execution_count": 3,
   "metadata": {},
   "outputs": [
    {
     "data": {
      "text/plain": [
       "array([1])"
      ]
     },
     "execution_count": 3,
     "metadata": {},
     "output_type": "execute_result"
    }
   ],
   "source": [
    "y_pred"
   ]
  },
  {
   "cell_type": "code",
   "execution_count": 4,
   "metadata": {},
   "outputs": [
    {
     "name": "stderr",
     "output_type": "stream",
     "text": [
      "C:\\Programmes\\Anaconda\\envs\\ngtv\\lib\\site-packages\\matplotlib\\contour.py:1000: UserWarning: The following kwargs were not used by contour: 'linewidth'\n",
      "  s)\n"
     ]
    },
    {
     "name": "stdout",
     "output_type": "stream",
     "text": [
      "Saving figure perceptron_iris_plot\n"
     ]
    },
    {
     "data": {
      "image/png": "[encoded data removed]",
      "text/plain": [
       "<Figure size 720x288 with 1 Axes>"
      ]
     },
     "metadata": {
      "needs_background": "light"
     },
     "output_type": "display_data"
    }
   ],
   "source": [
    "a = -per_clf.coef_[0][0] / per_clf.coef_[0][1]\n",
    "b = -per_clf.intercept_ / per_clf.coef_[0][1]\n",
    "\n",
    "axes = [0, 5, 0, 2]\n",
    "\n",
    "x0, x1 = np.meshgrid(\n",
    "        np.linspace(axes[0], axes[1], 500).reshape(-1, 1),\n",
    "        np.linspace(axes[2], axes[3], 200).reshape(-1, 1),\n",
    "    )\n",
    "X_new = np.c_[x0.ravel(), x1.ravel()]\n",
    "y_predict = per_clf.predict(X_new)\n",
    "zz = y_predict.reshape(x0.shape)\n",
    "\n",
    "plt.figure(figsize=(10, 4))\n",
    "plt.plot(X[y==0, 0], X[y==0, 1], \"bs\", label=\"Not Iris-Setosa\")\n",
    "plt.plot(X[y==1, 0], X[y==1, 1], \"yo\", label=\"Iris-Setosa\")\n",
    "\n",
    "plt.plot([axes[0], axes[1]], [a * axes[0] + b, a * axes[1] + b], \"k-\", linewidth=3)\n",
    "from matplotlib.colors import ListedColormap\n",
    "custom_cmap = ListedColormap(['#9898ff', '#fafab0'])\n",
    "\n",
    "plt.contourf(x0, x1, zz, cmap=custom_cmap, linewidth=5)\n",
    "plt.xlabel(\"Petal length\", fontsize=14)\n",
    "plt.ylabel(\"Petal width\", fontsize=14)\n",
    "plt.legend(loc=\"lower right\", fontsize=14)\n",
    "plt.axis(axes)\n",
    "\n",
    "save_fig(\"perceptron_iris_plot\")\n",
    "plt.show()"
   ]
  },
  {
   "cell_type": "markdown",
   "metadata": {},
   "source": [
    "# Entrainement d'un PMC sur MNIST"
   ]
  },
  {
   "cell_type": "markdown",
   "metadata": {},
   "source": [
    "## Construction du réseau de neuronnes profond:  \n",
    "*- 2 couches cachés avec 300 et 100 neurones*  \n",
    "*- 1 couche de sortie Softmax*"
   ]
  },
  {
   "cell_type": "markdown",
   "metadata": {},
   "source": [
    "*Pour éviter les doublons*"
   ]
  },
  {
   "cell_type": "code",
   "execution_count": 5,
   "metadata": {},
   "outputs": [],
   "source": [
    "def reset_graph(seed=42):\n",
    "    tf.reset_default_graph()\n",
    "    tf.set_random_seed(seed)\n",
    "    np.random.seed(seed)"
   ]
  },
  {
   "cell_type": "markdown",
   "metadata": {},
   "source": [
    "*Récupération des données MNIST*"
   ]
  },
  {
   "cell_type": "code",
   "execution_count": 6,
   "metadata": {},
   "outputs": [],
   "source": [
    "import tensorflow as tf\n",
    "\n",
    "(X_train, y_train), (X_test, y_test) = tf.keras.datasets.mnist.load_data()"
   ]
  },
  {
   "cell_type": "code",
   "execution_count": 7,
   "metadata": {},
   "outputs": [],
   "source": [
    "X_train = X_train.astype(np.float32).reshape(-1, 28*28) / 255.0\n",
    "X_test = X_test.astype(np.float32).reshape(-1, 28*28) / 255.0\n",
    "y_train = y_train.astype(np.int32)\n",
    "y_test = y_test.astype(np.int32)\n",
    "X_valid, X_train = X_train[:5000], X_train[5000:]\n",
    "y_valid, y_train = y_train[:5000], y_train[5000:]"
   ]
  },
  {
   "cell_type": "markdown",
   "metadata": {},
   "source": [
    "**Récupération du jeu d'entrainement et de test**"
   ]
  },
  {
   "cell_type": "markdown",
   "metadata": {},
   "source": [
    "## Avec une API haut niveau: DNNClassifier"
   ]
  },
  {
   "cell_type": "code",
   "execution_count": 8,
   "metadata": {},
   "outputs": [
    {
     "name": "stdout",
     "output_type": "stream",
     "text": [
      "INFO:tensorflow:Using default config.\n",
      "WARNING:tensorflow:Using temporary folder as model directory: C:\\Users\\User\\AppData\\Local\\Temp\\tmprkxg21fj\n",
      "INFO:tensorflow:Using config: {'_model_dir': 'C:\\\\Users\\\\User\\\\AppData\\\\Local\\\\Temp\\\\tmprkxg21fj', '_tf_random_seed': None, '_save_summary_steps': 100, '_save_checkpoints_steps': None, '_save_checkpoints_secs': 600, '_session_config': allow_soft_placement: true\n",
      "graph_options {\n",
      "  rewrite_options {\n",
      "    meta_optimizer_iterations: ONE\n",
      "  }\n",
      "}\n",
      ", '_keep_checkpoint_max': 5, '_keep_checkpoint_every_n_hours': 10000, '_log_step_count_steps': 100, '_train_distribute': None, '_device_fn': None, '_protocol': None, '_eval_distribute': None, '_experimental_distribute': None, '_service': None, '_cluster_spec': <tensorflow.python.training.server_lib.ClusterSpec object at 0x0000024B08ED6550>, '_task_type': 'worker', '_task_id': 0, '_global_id_in_cluster': 0, '_master': '', '_evaluation_master': '', '_is_chief': True, '_num_ps_replicas': 0, '_num_worker_replicas': 1}\n",
      "WARNING:tensorflow:From C:\\Programmes\\Anaconda\\envs\\ngtv\\lib\\site-packages\\tensorflow\\python\\estimator\\inputs\\queues\\feeding_queue_runner.py:62: QueueRunner.__init__ (from tensorflow.python.training.queue_runner_impl) is deprecated and will be removed in a future version.\n",
      "Instructions for updating:\n",
      "To construct input pipelines, use the `tf.data` module.\n",
      "WARNING:tensorflow:From C:\\Programmes\\Anaconda\\envs\\ngtv\\lib\\site-packages\\tensorflow\\python\\estimator\\inputs\\queues\\feeding_functions.py:500: add_queue_runner (from tensorflow.python.training.queue_runner_impl) is deprecated and will be removed in a future version.\n",
      "Instructions for updating:\n",
      "To construct input pipelines, use the `tf.data` module.\n",
      "INFO:tensorflow:Calling model_fn.\n",
      "INFO:tensorflow:Done calling model_fn.\n",
      "INFO:tensorflow:Create CheckpointSaverHook.\n",
      "INFO:tensorflow:Graph was finalized.\n",
      "INFO:tensorflow:Running local_init_op.\n",
      "INFO:tensorflow:Done running local_init_op.\n",
      "WARNING:tensorflow:From C:\\Programmes\\Anaconda\\envs\\ngtv\\lib\\site-packages\\tensorflow\\python\\training\\monitored_session.py:804: start_queue_runners (from tensorflow.python.training.queue_runner_impl) is deprecated and will be removed in a future version.\n",
      "Instructions for updating:\n",
      "To construct input pipelines, use the `tf.data` module.\n",
      "INFO:tensorflow:Saving checkpoints for 0 into C:\\Users\\User\\AppData\\Local\\Temp\\tmprkxg21fj\\model.ckpt.\n",
      "INFO:tensorflow:loss = 116.47039, step = 0\n",
      "INFO:tensorflow:global_step/sec: 291.478\n",
      "INFO:tensorflow:loss = 16.205898, step = 100 (0.340 sec)\n",
      "INFO:tensorflow:global_step/sec: 374.131\n",
      "INFO:tensorflow:loss = 11.257538, step = 200 (0.268 sec)\n",
      "INFO:tensorflow:global_step/sec: 374.132\n",
      "INFO:tensorflow:loss = 6.4324164, step = 300 (0.266 sec)\n",
      "INFO:tensorflow:global_step/sec: 375.533\n",
      "INFO:tensorflow:loss = 9.823343, step = 400 (0.267 sec)\n",
      "INFO:tensorflow:global_step/sec: 374.132\n",
      "INFO:tensorflow:loss = 2.6256757, step = 500 (0.267 sec)\n",
      "INFO:tensorflow:global_step/sec: 371.36\n",
      "INFO:tensorflow:loss = 3.7524307, step = 600 (0.269 sec)\n",
      "INFO:tensorflow:global_step/sec: 374.132\n",
      "INFO:tensorflow:loss = 13.316877, step = 700 (0.267 sec)\n",
      "INFO:tensorflow:global_step/sec: 375.534\n",
      "INFO:tensorflow:loss = 3.067913, step = 800 (0.266 sec)\n",
      "INFO:tensorflow:global_step/sec: 375.533\n",
      "INFO:tensorflow:loss = 16.641209, step = 900 (0.266 sec)\n",
      "INFO:tensorflow:global_step/sec: 372.741\n",
      "INFO:tensorflow:loss = 6.789467, step = 1000 (0.268 sec)\n",
      "INFO:tensorflow:global_step/sec: 376.945\n",
      "INFO:tensorflow:loss = 5.019716, step = 1100 (0.264 sec)\n",
      "INFO:tensorflow:global_step/sec: 376.946\n",
      "INFO:tensorflow:loss = 2.803901, step = 1200 (0.266 sec)\n",
      "INFO:tensorflow:global_step/sec: 372.741\n",
      "INFO:tensorflow:loss = 1.4551511, step = 1300 (0.268 sec)\n",
      "INFO:tensorflow:global_step/sec: 374.132\n",
      "INFO:tensorflow:loss = 5.1671486, step = 1400 (0.267 sec)\n",
      "INFO:tensorflow:global_step/sec: 376.945\n",
      "INFO:tensorflow:loss = 1.2420429, step = 1500 (0.265 sec)\n",
      "INFO:tensorflow:global_step/sec: 375.534\n",
      "INFO:tensorflow:loss = 0.51486635, step = 1600 (0.267 sec)\n",
      "INFO:tensorflow:global_step/sec: 375.533\n",
      "INFO:tensorflow:loss = 7.285388, step = 1700 (0.265 sec)\n",
      "INFO:tensorflow:global_step/sec: 372.741\n",
      "INFO:tensorflow:loss = 8.957752, step = 1800 (0.268 sec)\n",
      "INFO:tensorflow:global_step/sec: 371.36\n",
      "INFO:tensorflow:loss = 1.6010182, step = 1900 (0.268 sec)\n",
      "INFO:tensorflow:global_step/sec: 375.534\n",
      "INFO:tensorflow:loss = 3.6258364, step = 2000 (0.268 sec)\n",
      "INFO:tensorflow:global_step/sec: 375.533\n",
      "INFO:tensorflow:loss = 0.60302484, step = 2100 (0.265 sec)\n",
      "INFO:tensorflow:global_step/sec: 375.533\n",
      "INFO:tensorflow:loss = 0.7578808, step = 2200 (0.266 sec)\n",
      "INFO:tensorflow:global_step/sec: 375.535\n",
      "INFO:tensorflow:loss = 4.1183596, step = 2300 (0.266 sec)\n",
      "INFO:tensorflow:global_step/sec: 372.74\n",
      "INFO:tensorflow:loss = 0.80492204, step = 2400 (0.268 sec)\n",
      "INFO:tensorflow:global_step/sec: 374.132\n",
      "INFO:tensorflow:loss = 1.8113372, step = 2500 (0.267 sec)\n",
      "INFO:tensorflow:global_step/sec: 376.945\n",
      "INFO:tensorflow:loss = 2.3537602, step = 2600 (0.265 sec)\n",
      "INFO:tensorflow:global_step/sec: 375.533\n",
      "INFO:tensorflow:loss = 3.7895007, step = 2700 (0.265 sec)\n",
      "INFO:tensorflow:global_step/sec: 374.133\n",
      "INFO:tensorflow:loss = 0.2729588, step = 2800 (0.268 sec)\n",
      "INFO:tensorflow:global_step/sec: 376.945\n",
      "INFO:tensorflow:loss = 2.6818628, step = 2900 (0.265 sec)\n",
      "INFO:tensorflow:global_step/sec: 372.741\n",
      "INFO:tensorflow:loss = 0.6367506, step = 3000 (0.267 sec)\n",
      "INFO:tensorflow:global_step/sec: 372.741\n",
      "INFO:tensorflow:loss = 7.729804, step = 3100 (0.270 sec)\n",
      "INFO:tensorflow:global_step/sec: 369.989\n",
      "INFO:tensorflow:loss = 5.429643, step = 3200 (0.269 sec)\n",
      "INFO:tensorflow:global_step/sec: 374.132\n",
      "INFO:tensorflow:loss = 0.68599796, step = 3300 (0.267 sec)\n",
      "INFO:tensorflow:global_step/sec: 375.533\n",
      "INFO:tensorflow:loss = 4.366808, step = 3400 (0.266 sec)\n",
      "INFO:tensorflow:global_step/sec: 374.133\n",
      "INFO:tensorflow:loss = 0.15503855, step = 3500 (0.267 sec)\n",
      "INFO:tensorflow:global_step/sec: 371.36\n",
      "INFO:tensorflow:loss = 1.082309, step = 3600 (0.269 sec)\n",
      "INFO:tensorflow:global_step/sec: 372.741\n",
      "INFO:tensorflow:loss = 3.2057989, step = 3700 (0.268 sec)\n",
      "INFO:tensorflow:global_step/sec: 375.533\n",
      "INFO:tensorflow:loss = 7.41138, step = 3800 (0.265 sec)\n",
      "INFO:tensorflow:global_step/sec: 378.368\n",
      "INFO:tensorflow:loss = 0.63057625, step = 3900 (0.265 sec)\n",
      "INFO:tensorflow:global_step/sec: 376.944\n",
      "INFO:tensorflow:loss = 0.69182, step = 4000 (0.265 sec)\n",
      "INFO:tensorflow:global_step/sec: 378.367\n",
      "INFO:tensorflow:loss = 1.1418723, step = 4100 (0.265 sec)\n",
      "INFO:tensorflow:global_step/sec: 375.534\n",
      "INFO:tensorflow:loss = 1.0762045, step = 4200 (0.265 sec)\n",
      "INFO:tensorflow:global_step/sec: 374.132\n",
      "INFO:tensorflow:loss = 3.1827128, step = 4300 (0.267 sec)\n",
      "INFO:tensorflow:global_step/sec: 356.823\n",
      "INFO:tensorflow:loss = 9.718615, step = 4400 (0.280 sec)\n",
      "INFO:tensorflow:global_step/sec: 374.133\n",
      "INFO:tensorflow:loss = 0.8769189, step = 4500 (0.267 sec)\n",
      "INFO:tensorflow:global_step/sec: 375.533\n",
      "INFO:tensorflow:loss = 0.3029797, step = 4600 (0.266 sec)\n",
      "INFO:tensorflow:global_step/sec: 358.098\n",
      "INFO:tensorflow:loss = 0.9861704, step = 4700 (0.280 sec)\n",
      "INFO:tensorflow:global_step/sec: 375.533\n",
      "INFO:tensorflow:loss = 0.6256096, step = 4800 (0.265 sec)\n",
      "INFO:tensorflow:global_step/sec: 375.534\n",
      "INFO:tensorflow:loss = 5.19679, step = 4900 (0.267 sec)\n",
      "INFO:tensorflow:global_step/sec: 375.532\n",
      "INFO:tensorflow:loss = 0.8197379, step = 5000 (0.265 sec)\n",
      "INFO:tensorflow:global_step/sec: 376.944\n",
      "INFO:tensorflow:loss = 1.2928804, step = 5100 (0.265 sec)\n",
      "INFO:tensorflow:global_step/sec: 376.945\n",
      "INFO:tensorflow:loss = 1.014374, step = 5200 (0.265 sec)\n",
      "INFO:tensorflow:global_step/sec: 378.369\n",
      "INFO:tensorflow:loss = 1.8239951, step = 5300 (0.264 sec)\n",
      "INFO:tensorflow:global_step/sec: 374.131\n",
      "INFO:tensorflow:loss = 1.1959741, step = 5400 (0.267 sec)\n",
      "INFO:tensorflow:global_step/sec: 376.945\n",
      "INFO:tensorflow:loss = 1.5151491, step = 5500 (0.265 sec)\n",
      "INFO:tensorflow:global_step/sec: 375.534\n",
      "INFO:tensorflow:loss = 2.6156328, step = 5600 (0.267 sec)\n",
      "INFO:tensorflow:global_step/sec: 378.366\n",
      "INFO:tensorflow:loss = 0.44468173, step = 5700 (0.263 sec)\n",
      "INFO:tensorflow:global_step/sec: 374.132\n",
      "INFO:tensorflow:loss = 0.340995, step = 5800 (0.267 sec)\n",
      "INFO:tensorflow:global_step/sec: 374.132\n",
      "INFO:tensorflow:loss = 1.1648278, step = 5900 (0.267 sec)\n"
     ]
    },
    {
     "name": "stdout",
     "output_type": "stream",
     "text": [
      "INFO:tensorflow:global_step/sec: 376.946\n",
      "INFO:tensorflow:loss = 1.2032723, step = 6000 (0.265 sec)\n",
      "INFO:tensorflow:global_step/sec: 376.943\n",
      "INFO:tensorflow:loss = 0.85099185, step = 6100 (0.266 sec)\n",
      "INFO:tensorflow:global_step/sec: 375.535\n",
      "INFO:tensorflow:loss = 1.0084448, step = 6200 (0.265 sec)\n",
      "INFO:tensorflow:global_step/sec: 376.945\n",
      "INFO:tensorflow:loss = 1.1383494, step = 6300 (0.265 sec)\n",
      "INFO:tensorflow:global_step/sec: 372.741\n",
      "INFO:tensorflow:loss = 0.2112895, step = 6400 (0.267 sec)\n",
      "INFO:tensorflow:global_step/sec: 378.368\n",
      "INFO:tensorflow:loss = 4.139609, step = 6500 (0.265 sec)\n",
      "INFO:tensorflow:global_step/sec: 332.011\n",
      "INFO:tensorflow:loss = 1.270326, step = 6600 (0.302 sec)\n",
      "INFO:tensorflow:global_step/sec: 361.976\n",
      "INFO:tensorflow:loss = 0.28203654, step = 6700 (0.275 sec)\n",
      "INFO:tensorflow:global_step/sec: 374.131\n",
      "INFO:tensorflow:loss = 0.9227988, step = 6800 (0.267 sec)\n",
      "INFO:tensorflow:global_step/sec: 375.535\n",
      "INFO:tensorflow:loss = 0.25714785, step = 6900 (0.266 sec)\n",
      "INFO:tensorflow:global_step/sec: 375.532\n",
      "INFO:tensorflow:loss = 1.5039964, step = 7000 (0.266 sec)\n",
      "INFO:tensorflow:global_step/sec: 376.946\n",
      "INFO:tensorflow:loss = 0.3333754, step = 7100 (0.265 sec)\n",
      "INFO:tensorflow:global_step/sec: 359.381\n",
      "INFO:tensorflow:loss = 0.2071014, step = 7200 (0.279 sec)\n",
      "INFO:tensorflow:global_step/sec: 361.976\n",
      "INFO:tensorflow:loss = 0.8336661, step = 7300 (0.276 sec)\n",
      "INFO:tensorflow:global_step/sec: 378.368\n",
      "INFO:tensorflow:loss = 0.2628659, step = 7400 (0.263 sec)\n",
      "INFO:tensorflow:global_step/sec: 376.945\n",
      "INFO:tensorflow:loss = 0.32126063, step = 7500 (0.265 sec)\n",
      "INFO:tensorflow:global_step/sec: 375.532\n",
      "INFO:tensorflow:loss = 1.7317601, step = 7600 (0.266 sec)\n",
      "INFO:tensorflow:global_step/sec: 375.535\n",
      "INFO:tensorflow:loss = 0.76078033, step = 7700 (0.266 sec)\n",
      "INFO:tensorflow:global_step/sec: 376.944\n",
      "INFO:tensorflow:loss = 0.8687633, step = 7800 (0.266 sec)\n",
      "INFO:tensorflow:global_step/sec: 378.367\n",
      "INFO:tensorflow:loss = 0.87701154, step = 7900 (0.263 sec)\n",
      "INFO:tensorflow:global_step/sec: 375.533\n",
      "INFO:tensorflow:loss = 0.41109622, step = 8000 (0.266 sec)\n",
      "INFO:tensorflow:global_step/sec: 378.368\n",
      "INFO:tensorflow:loss = 0.8010317, step = 8100 (0.265 sec)\n",
      "INFO:tensorflow:global_step/sec: 375.533\n",
      "INFO:tensorflow:loss = 0.53982735, step = 8200 (0.265 sec)\n",
      "INFO:tensorflow:global_step/sec: 375.534\n",
      "INFO:tensorflow:loss = 1.5060341, step = 8300 (0.266 sec)\n",
      "INFO:tensorflow:global_step/sec: 369.99\n",
      "INFO:tensorflow:loss = 0.9892105, step = 8400 (0.270 sec)\n",
      "INFO:tensorflow:global_step/sec: 371.36\n",
      "INFO:tensorflow:loss = 0.41089496, step = 8500 (0.269 sec)\n",
      "INFO:tensorflow:global_step/sec: 374.132\n",
      "INFO:tensorflow:loss = 0.36036453, step = 8600 (0.267 sec)\n",
      "INFO:tensorflow:global_step/sec: 374.132\n",
      "INFO:tensorflow:loss = 1.1374576, step = 8700 (0.267 sec)\n",
      "INFO:tensorflow:global_step/sec: 375.533\n",
      "INFO:tensorflow:loss = 0.3437336, step = 8800 (0.265 sec)\n",
      "INFO:tensorflow:global_step/sec: 374.132\n",
      "INFO:tensorflow:loss = 0.2909724, step = 8900 (0.267 sec)\n",
      "INFO:tensorflow:global_step/sec: 376.946\n",
      "INFO:tensorflow:loss = 0.31428105, step = 9000 (0.265 sec)\n",
      "INFO:tensorflow:global_step/sec: 376.944\n",
      "INFO:tensorflow:loss = 0.3257766, step = 9100 (0.265 sec)\n",
      "INFO:tensorflow:global_step/sec: 376.945\n",
      "INFO:tensorflow:loss = 0.63770294, step = 9200 (0.265 sec)\n",
      "INFO:tensorflow:global_step/sec: 374.13\n",
      "INFO:tensorflow:loss = 0.83389103, step = 9300 (0.269 sec)\n",
      "INFO:tensorflow:global_step/sec: 371.362\n",
      "INFO:tensorflow:loss = 0.69885856, step = 9400 (0.267 sec)\n",
      "INFO:tensorflow:global_step/sec: 378.367\n",
      "INFO:tensorflow:loss = 0.21191159, step = 9500 (0.265 sec)\n",
      "INFO:tensorflow:global_step/sec: 379.802\n",
      "INFO:tensorflow:loss = 0.4793011, step = 9600 (0.263 sec)\n",
      "INFO:tensorflow:global_step/sec: 375.533\n",
      "INFO:tensorflow:loss = 0.17829114, step = 9700 (0.266 sec)\n",
      "INFO:tensorflow:global_step/sec: 375.533\n",
      "INFO:tensorflow:loss = 0.12410051, step = 9800 (0.266 sec)\n",
      "INFO:tensorflow:global_step/sec: 375.534\n",
      "INFO:tensorflow:loss = 0.28183424, step = 9900 (0.274 sec)\n",
      "INFO:tensorflow:global_step/sec: 363.288\n",
      "INFO:tensorflow:loss = 0.061645247, step = 10000 (0.268 sec)\n",
      "INFO:tensorflow:global_step/sec: 375.533\n",
      "INFO:tensorflow:loss = 0.14612673, step = 10100 (0.265 sec)\n",
      "INFO:tensorflow:global_step/sec: 376.945\n",
      "INFO:tensorflow:loss = 0.21273264, step = 10200 (0.264 sec)\n",
      "INFO:tensorflow:global_step/sec: 376.944\n",
      "INFO:tensorflow:loss = 0.3155298, step = 10300 (0.266 sec)\n",
      "INFO:tensorflow:global_step/sec: 375.533\n",
      "INFO:tensorflow:loss = 0.29560322, step = 10400 (0.267 sec)\n",
      "INFO:tensorflow:global_step/sec: 376.946\n",
      "INFO:tensorflow:loss = 0.34776306, step = 10500 (0.264 sec)\n",
      "INFO:tensorflow:global_step/sec: 376.945\n",
      "INFO:tensorflow:loss = 0.29842988, step = 10600 (0.265 sec)\n",
      "INFO:tensorflow:global_step/sec: 374.131\n",
      "INFO:tensorflow:loss = 0.5714335, step = 10700 (0.267 sec)\n",
      "INFO:tensorflow:global_step/sec: 375.533\n",
      "INFO:tensorflow:loss = 0.052797828, step = 10800 (0.265 sec)\n",
      "INFO:tensorflow:global_step/sec: 378.368\n",
      "INFO:tensorflow:loss = 0.2757658, step = 10900 (0.265 sec)\n",
      "INFO:tensorflow:global_step/sec: 375.533\n",
      "INFO:tensorflow:loss = 0.18870728, step = 11000 (0.266 sec)\n",
      "INFO:tensorflow:global_step/sec: 375.534\n",
      "INFO:tensorflow:loss = 0.22798415, step = 11100 (0.267 sec)\n",
      "INFO:tensorflow:global_step/sec: 375.533\n",
      "INFO:tensorflow:loss = 0.06827097, step = 11200 (0.265 sec)\n",
      "INFO:tensorflow:global_step/sec: 374.131\n",
      "INFO:tensorflow:loss = 0.11829838, step = 11300 (0.267 sec)\n",
      "INFO:tensorflow:global_step/sec: 375.534\n",
      "INFO:tensorflow:loss = 0.3966965, step = 11400 (0.266 sec)\n",
      "INFO:tensorflow:global_step/sec: 376.945\n",
      "INFO:tensorflow:loss = 0.095868476, step = 11500 (0.265 sec)\n",
      "INFO:tensorflow:global_step/sec: 374.132\n",
      "INFO:tensorflow:loss = 0.4417136, step = 11600 (0.267 sec)\n",
      "INFO:tensorflow:global_step/sec: 374.133\n",
      "INFO:tensorflow:loss = 0.5374281, step = 11700 (0.267 sec)\n",
      "INFO:tensorflow:global_step/sec: 375.532\n",
      "INFO:tensorflow:loss = 0.43197557, step = 11800 (0.266 sec)\n",
      "INFO:tensorflow:global_step/sec: 378.369\n",
      "INFO:tensorflow:loss = 0.33117393, step = 11900 (0.264 sec)\n",
      "INFO:tensorflow:global_step/sec: 376.944\n",
      "INFO:tensorflow:loss = 0.06543335, step = 12000 (0.265 sec)\n",
      "INFO:tensorflow:global_step/sec: 376.945\n",
      "INFO:tensorflow:loss = 0.10051574, step = 12100 (0.265 sec)\n",
      "INFO:tensorflow:global_step/sec: 378.368\n",
      "INFO:tensorflow:loss = 0.13686365, step = 12200 (0.265 sec)\n",
      "INFO:tensorflow:global_step/sec: 376.944\n",
      "INFO:tensorflow:loss = 0.036177307, step = 12300 (0.264 sec)\n",
      "INFO:tensorflow:global_step/sec: 378.367\n",
      "INFO:tensorflow:loss = 0.14267181, step = 12400 (0.264 sec)\n",
      "INFO:tensorflow:global_step/sec: 378.369\n",
      "INFO:tensorflow:loss = 0.24164844, step = 12500 (0.264 sec)\n",
      "INFO:tensorflow:global_step/sec: 374.132\n",
      "INFO:tensorflow:loss = 0.139584, step = 12600 (0.267 sec)\n",
      "INFO:tensorflow:global_step/sec: 378.368\n",
      "INFO:tensorflow:loss = 0.076693006, step = 12700 (0.264 sec)\n",
      "INFO:tensorflow:global_step/sec: 376.945\n",
      "INFO:tensorflow:loss = 0.087271556, step = 12800 (0.265 sec)\n",
      "INFO:tensorflow:global_step/sec: 372.741\n",
      "INFO:tensorflow:loss = 0.112620115, step = 12900 (0.268 sec)\n",
      "INFO:tensorflow:global_step/sec: 375.533\n",
      "INFO:tensorflow:loss = 0.1610101, step = 13000 (0.266 sec)\n",
      "INFO:tensorflow:global_step/sec: 375.533\n",
      "INFO:tensorflow:loss = 0.19903968, step = 13100 (0.265 sec)\n",
      "INFO:tensorflow:global_step/sec: 378.367\n",
      "INFO:tensorflow:loss = 0.19669387, step = 13200 (0.265 sec)\n",
      "INFO:tensorflow:global_step/sec: 374.133\n",
      "INFO:tensorflow:loss = 0.1271098, step = 13300 (0.267 sec)\n",
      "INFO:tensorflow:global_step/sec: 372.741\n",
      "INFO:tensorflow:loss = 0.22245425, step = 13400 (0.267 sec)\n",
      "INFO:tensorflow:global_step/sec: 375.533\n",
      "INFO:tensorflow:loss = 0.391814, step = 13500 (0.266 sec)\n",
      "INFO:tensorflow:global_step/sec: 374.132\n",
      "INFO:tensorflow:loss = 0.1927852, step = 13600 (0.268 sec)\n",
      "INFO:tensorflow:global_step/sec: 378.367\n",
      "INFO:tensorflow:loss = 0.15125151, step = 13700 (0.264 sec)\n",
      "INFO:tensorflow:global_step/sec: 378.368\n",
      "INFO:tensorflow:loss = 0.42631266, step = 13800 (0.263 sec)\n",
      "INFO:tensorflow:global_step/sec: 371.359\n",
      "INFO:tensorflow:loss = 0.07253265, step = 13900 (0.269 sec)\n",
      "INFO:tensorflow:global_step/sec: 375.534\n",
      "INFO:tensorflow:loss = 0.07199431, step = 14000 (0.266 sec)\n",
      "INFO:tensorflow:global_step/sec: 375.533\n",
      "INFO:tensorflow:loss = 0.13417695, step = 14100 (0.267 sec)\n"
     ]
    },
    {
     "name": "stdout",
     "output_type": "stream",
     "text": [
      "INFO:tensorflow:global_step/sec: 376.945\n",
      "INFO:tensorflow:loss = 0.106147215, step = 14200 (0.264 sec)\n",
      "INFO:tensorflow:global_step/sec: 375.533\n",
      "INFO:tensorflow:loss = 0.10409328, step = 14300 (0.267 sec)\n",
      "INFO:tensorflow:global_step/sec: 375.533\n",
      "INFO:tensorflow:loss = 0.27233598, step = 14400 (0.265 sec)\n",
      "INFO:tensorflow:global_step/sec: 375.534\n",
      "INFO:tensorflow:loss = 0.10012336, step = 14500 (0.267 sec)\n",
      "INFO:tensorflow:global_step/sec: 375.534\n",
      "INFO:tensorflow:loss = 0.111928, step = 14600 (0.266 sec)\n",
      "INFO:tensorflow:global_step/sec: 379.801\n",
      "INFO:tensorflow:loss = 0.2535882, step = 14700 (0.264 sec)\n",
      "INFO:tensorflow:global_step/sec: 375.532\n",
      "INFO:tensorflow:loss = 0.04665164, step = 14800 (0.265 sec)\n",
      "INFO:tensorflow:global_step/sec: 376.946\n",
      "INFO:tensorflow:loss = 0.5188913, step = 14900 (0.265 sec)\n",
      "INFO:tensorflow:global_step/sec: 372.742\n",
      "INFO:tensorflow:loss = 0.19931373, step = 15000 (0.269 sec)\n",
      "INFO:tensorflow:global_step/sec: 378.366\n",
      "INFO:tensorflow:loss = 0.07584366, step = 15100 (0.263 sec)\n",
      "INFO:tensorflow:global_step/sec: 374.133\n",
      "INFO:tensorflow:loss = 0.17798132, step = 15200 (0.266 sec)\n",
      "INFO:tensorflow:global_step/sec: 376.942\n",
      "INFO:tensorflow:loss = 0.86531556, step = 15300 (0.266 sec)\n",
      "INFO:tensorflow:global_step/sec: 376.946\n",
      "INFO:tensorflow:loss = 0.055902284, step = 15400 (0.264 sec)\n",
      "INFO:tensorflow:global_step/sec: 364.611\n",
      "INFO:tensorflow:loss = 0.01490164, step = 15500 (0.275 sec)\n",
      "INFO:tensorflow:global_step/sec: 351.814\n",
      "INFO:tensorflow:loss = 0.006122448, step = 15600 (0.284 sec)\n",
      "INFO:tensorflow:global_step/sec: 368.631\n",
      "INFO:tensorflow:loss = 0.54129535, step = 15700 (0.271 sec)\n",
      "INFO:tensorflow:global_step/sec: 358.098\n",
      "INFO:tensorflow:loss = 0.045255005, step = 15800 (0.279 sec)\n",
      "INFO:tensorflow:global_step/sec: 378.367\n",
      "INFO:tensorflow:loss = 0.11874424, step = 15900 (0.265 sec)\n",
      "INFO:tensorflow:global_step/sec: 375.533\n",
      "INFO:tensorflow:loss = 0.15110987, step = 16000 (0.266 sec)\n",
      "INFO:tensorflow:global_step/sec: 375.533\n",
      "INFO:tensorflow:loss = 0.066583425, step = 16100 (0.266 sec)\n",
      "INFO:tensorflow:global_step/sec: 376.945\n",
      "INFO:tensorflow:loss = 0.015418573, step = 16200 (0.264 sec)\n",
      "INFO:tensorflow:global_step/sec: 379.801\n",
      "INFO:tensorflow:loss = 0.18531078, step = 16300 (0.263 sec)\n",
      "INFO:tensorflow:global_step/sec: 374.13\n",
      "INFO:tensorflow:loss = 0.044144116, step = 16400 (0.267 sec)\n",
      "INFO:tensorflow:global_step/sec: 376.947\n",
      "INFO:tensorflow:loss = 0.07994594, step = 16500 (0.266 sec)\n",
      "INFO:tensorflow:global_step/sec: 375.533\n",
      "INFO:tensorflow:loss = 0.16862473, step = 16600 (0.265 sec)\n",
      "INFO:tensorflow:global_step/sec: 349.364\n",
      "INFO:tensorflow:loss = 0.07855623, step = 16700 (0.287 sec)\n",
      "INFO:tensorflow:global_step/sec: 374.131\n",
      "INFO:tensorflow:loss = 0.13727474, step = 16800 (0.266 sec)\n",
      "INFO:tensorflow:global_step/sec: 376.945\n",
      "INFO:tensorflow:loss = 0.10233259, step = 16900 (0.266 sec)\n",
      "INFO:tensorflow:global_step/sec: 374.13\n",
      "INFO:tensorflow:loss = 0.017184954, step = 17000 (0.266 sec)\n",
      "INFO:tensorflow:global_step/sec: 374.134\n",
      "INFO:tensorflow:loss = 0.15345702, step = 17100 (0.267 sec)\n",
      "INFO:tensorflow:global_step/sec: 375.533\n",
      "INFO:tensorflow:loss = 0.046556972, step = 17200 (0.265 sec)\n",
      "INFO:tensorflow:global_step/sec: 376.945\n",
      "INFO:tensorflow:loss = 0.047532994, step = 17300 (0.266 sec)\n",
      "INFO:tensorflow:global_step/sec: 375.533\n",
      "INFO:tensorflow:loss = 0.05566963, step = 17400 (0.265 sec)\n",
      "INFO:tensorflow:global_step/sec: 365.939\n",
      "INFO:tensorflow:loss = 0.11498527, step = 17500 (0.274 sec)\n",
      "INFO:tensorflow:global_step/sec: 376.945\n",
      "INFO:tensorflow:loss = 0.056652047, step = 17600 (0.265 sec)\n",
      "INFO:tensorflow:global_step/sec: 374.133\n",
      "INFO:tensorflow:loss = 0.0648859, step = 17700 (0.268 sec)\n",
      "INFO:tensorflow:global_step/sec: 375.534\n",
      "INFO:tensorflow:loss = 0.009931657, step = 17800 (0.265 sec)\n",
      "INFO:tensorflow:global_step/sec: 376.944\n",
      "INFO:tensorflow:loss = 0.04498247, step = 17900 (0.264 sec)\n",
      "INFO:tensorflow:global_step/sec: 378.366\n",
      "INFO:tensorflow:loss = 0.03389432, step = 18000 (0.265 sec)\n",
      "INFO:tensorflow:global_step/sec: 375.534\n",
      "INFO:tensorflow:loss = 0.15517206, step = 18100 (0.266 sec)\n",
      "INFO:tensorflow:global_step/sec: 374.131\n",
      "INFO:tensorflow:loss = 0.06967343, step = 18200 (0.267 sec)\n",
      "INFO:tensorflow:global_step/sec: 375.533\n",
      "INFO:tensorflow:loss = 0.023895955, step = 18300 (0.266 sec)\n",
      "INFO:tensorflow:global_step/sec: 375.533\n",
      "INFO:tensorflow:loss = 0.06361993, step = 18400 (0.266 sec)\n",
      "INFO:tensorflow:global_step/sec: 378.368\n",
      "INFO:tensorflow:loss = 0.075974315, step = 18500 (0.265 sec)\n",
      "INFO:tensorflow:global_step/sec: 374.132\n",
      "INFO:tensorflow:loss = 0.060608998, step = 18600 (0.267 sec)\n",
      "INFO:tensorflow:global_step/sec: 375.533\n",
      "INFO:tensorflow:loss = 0.08318021, step = 18700 (0.265 sec)\n",
      "INFO:tensorflow:global_step/sec: 375.534\n",
      "INFO:tensorflow:loss = 0.15886495, step = 18800 (0.267 sec)\n",
      "INFO:tensorflow:global_step/sec: 378.367\n",
      "INFO:tensorflow:loss = 0.043326184, step = 18900 (0.263 sec)\n",
      "INFO:tensorflow:global_step/sec: 375.533\n",
      "INFO:tensorflow:loss = 0.14966868, step = 19000 (0.266 sec)\n",
      "INFO:tensorflow:global_step/sec: 376.945\n",
      "INFO:tensorflow:loss = 0.032475572, step = 19100 (0.265 sec)\n",
      "INFO:tensorflow:global_step/sec: 376.946\n",
      "INFO:tensorflow:loss = 0.033500314, step = 19200 (0.265 sec)\n",
      "INFO:tensorflow:global_step/sec: 374.131\n",
      "INFO:tensorflow:loss = 0.12847377, step = 19300 (0.267 sec)\n",
      "INFO:tensorflow:global_step/sec: 376.946\n",
      "INFO:tensorflow:loss = 0.05364728, step = 19400 (0.266 sec)\n",
      "INFO:tensorflow:global_step/sec: 376.944\n",
      "INFO:tensorflow:loss = 0.09953876, step = 19500 (0.264 sec)\n",
      "INFO:tensorflow:global_step/sec: 375.533\n",
      "INFO:tensorflow:loss = 0.08525589, step = 19600 (0.266 sec)\n",
      "INFO:tensorflow:global_step/sec: 378.368\n",
      "INFO:tensorflow:loss = 0.0514182, step = 19700 (0.264 sec)\n",
      "INFO:tensorflow:global_step/sec: 374.131\n",
      "INFO:tensorflow:loss = 0.073275276, step = 19800 (0.267 sec)\n",
      "INFO:tensorflow:global_step/sec: 375.533\n",
      "INFO:tensorflow:loss = 0.03569844, step = 19900 (0.266 sec)\n",
      "INFO:tensorflow:global_step/sec: 376.946\n",
      "INFO:tensorflow:loss = 0.015934736, step = 20000 (0.266 sec)\n",
      "INFO:tensorflow:global_step/sec: 372.741\n",
      "INFO:tensorflow:loss = 0.027254293, step = 20100 (0.268 sec)\n",
      "INFO:tensorflow:global_step/sec: 374.131\n",
      "INFO:tensorflow:loss = 0.0061684363, step = 20200 (0.266 sec)\n",
      "INFO:tensorflow:global_step/sec: 378.367\n",
      "INFO:tensorflow:loss = 0.06705453, step = 20300 (0.264 sec)\n",
      "INFO:tensorflow:global_step/sec: 372.742\n",
      "INFO:tensorflow:loss = 0.056037202, step = 20400 (0.268 sec)\n",
      "INFO:tensorflow:global_step/sec: 376.946\n",
      "INFO:tensorflow:loss = 0.013843984, step = 20500 (0.265 sec)\n",
      "INFO:tensorflow:global_step/sec: 376.944\n",
      "INFO:tensorflow:loss = 0.020851277, step = 20600 (0.265 sec)\n",
      "INFO:tensorflow:global_step/sec: 374.132\n",
      "INFO:tensorflow:loss = 0.068030395, step = 20700 (0.267 sec)\n",
      "INFO:tensorflow:global_step/sec: 376.945\n",
      "INFO:tensorflow:loss = 0.015665088, step = 20800 (0.266 sec)\n",
      "INFO:tensorflow:global_step/sec: 374.131\n",
      "INFO:tensorflow:loss = 0.0219603, step = 20900 (0.266 sec)\n",
      "INFO:tensorflow:global_step/sec: 374.133\n",
      "INFO:tensorflow:loss = 0.042861354, step = 21000 (0.267 sec)\n",
      "INFO:tensorflow:global_step/sec: 376.945\n",
      "INFO:tensorflow:loss = 0.15223283, step = 21100 (0.265 sec)\n",
      "INFO:tensorflow:global_step/sec: 374.132\n",
      "INFO:tensorflow:loss = 0.08400292, step = 21200 (0.267 sec)\n",
      "INFO:tensorflow:global_step/sec: 376.944\n",
      "INFO:tensorflow:loss = 0.11862585, step = 21300 (0.265 sec)\n",
      "INFO:tensorflow:global_step/sec: 375.534\n",
      "INFO:tensorflow:loss = 0.11608185, step = 21400 (0.266 sec)\n",
      "INFO:tensorflow:global_step/sec: 375.533\n",
      "INFO:tensorflow:loss = 0.18515511, step = 21500 (0.265 sec)\n",
      "INFO:tensorflow:global_step/sec: 375.535\n",
      "INFO:tensorflow:loss = 0.0493375, step = 21600 (0.267 sec)\n",
      "INFO:tensorflow:global_step/sec: 374.132\n",
      "INFO:tensorflow:loss = 0.09545854, step = 21700 (0.267 sec)\n",
      "INFO:tensorflow:global_step/sec: 374.13\n",
      "INFO:tensorflow:loss = 0.017083952, step = 21800 (0.267 sec)\n",
      "INFO:tensorflow:global_step/sec: 378.369\n",
      "INFO:tensorflow:loss = 0.042198814, step = 21900 (0.265 sec)\n",
      "INFO:tensorflow:global_step/sec: 372.739\n",
      "INFO:tensorflow:loss = 0.030345319, step = 22000 (0.267 sec)\n",
      "INFO:tensorflow:global_step/sec: 376.945\n",
      "INFO:tensorflow:loss = 0.014698256, step = 22100 (0.266 sec)\n",
      "INFO:tensorflow:global_step/sec: 374.132\n",
      "INFO:tensorflow:loss = 0.108185016, step = 22200 (0.266 sec)\n"
     ]
    },
    {
     "name": "stdout",
     "output_type": "stream",
     "text": [
      "INFO:tensorflow:global_step/sec: 374.131\n",
      "INFO:tensorflow:loss = 0.04677262, step = 22300 (0.267 sec)\n",
      "INFO:tensorflow:global_step/sec: 378.369\n",
      "INFO:tensorflow:loss = 0.19028032, step = 22400 (0.264 sec)\n",
      "INFO:tensorflow:global_step/sec: 378.367\n",
      "INFO:tensorflow:loss = 0.09018608, step = 22500 (0.264 sec)\n",
      "INFO:tensorflow:global_step/sec: 375.534\n",
      "INFO:tensorflow:loss = 0.051553264, step = 22600 (0.266 sec)\n",
      "INFO:tensorflow:global_step/sec: 378.367\n",
      "INFO:tensorflow:loss = 0.06740004, step = 22700 (0.264 sec)\n",
      "INFO:tensorflow:global_step/sec: 375.534\n",
      "INFO:tensorflow:loss = 0.06517602, step = 22800 (0.266 sec)\n",
      "INFO:tensorflow:global_step/sec: 376.944\n",
      "INFO:tensorflow:loss = 0.059226587, step = 22900 (0.265 sec)\n",
      "INFO:tensorflow:global_step/sec: 375.533\n",
      "INFO:tensorflow:loss = 0.16848886, step = 23000 (0.266 sec)\n",
      "INFO:tensorflow:global_step/sec: 374.133\n",
      "INFO:tensorflow:loss = 0.022283994, step = 23100 (0.267 sec)\n",
      "INFO:tensorflow:global_step/sec: 374.133\n",
      "INFO:tensorflow:loss = 0.0140510425, step = 23200 (0.267 sec)\n",
      "INFO:tensorflow:global_step/sec: 378.367\n",
      "INFO:tensorflow:loss = 0.050346415, step = 23300 (0.264 sec)\n",
      "INFO:tensorflow:global_step/sec: 376.946\n",
      "INFO:tensorflow:loss = 0.042575397, step = 23400 (0.265 sec)\n",
      "INFO:tensorflow:global_step/sec: 374.13\n",
      "INFO:tensorflow:loss = 0.052432947, step = 23500 (0.267 sec)\n",
      "INFO:tensorflow:global_step/sec: 378.367\n",
      "INFO:tensorflow:loss = 0.07895464, step = 23600 (0.264 sec)\n",
      "INFO:tensorflow:global_step/sec: 375.534\n",
      "INFO:tensorflow:loss = 0.019250853, step = 23700 (0.266 sec)\n",
      "INFO:tensorflow:global_step/sec: 375.532\n",
      "INFO:tensorflow:loss = 0.059536576, step = 23800 (0.266 sec)\n",
      "INFO:tensorflow:global_step/sec: 378.368\n",
      "INFO:tensorflow:loss = 0.012509119, step = 23900 (0.263 sec)\n",
      "INFO:tensorflow:global_step/sec: 378.367\n",
      "INFO:tensorflow:loss = 0.0481631, step = 24000 (0.265 sec)\n",
      "INFO:tensorflow:global_step/sec: 376.946\n",
      "INFO:tensorflow:loss = 0.019645832, step = 24100 (0.265 sec)\n",
      "INFO:tensorflow:global_step/sec: 378.368\n",
      "INFO:tensorflow:loss = 0.016150683, step = 24200 (0.264 sec)\n",
      "INFO:tensorflow:global_step/sec: 375.533\n",
      "INFO:tensorflow:loss = 0.032556288, step = 24300 (0.267 sec)\n",
      "INFO:tensorflow:global_step/sec: 375.532\n",
      "INFO:tensorflow:loss = 0.013894984, step = 24400 (0.265 sec)\n",
      "INFO:tensorflow:global_step/sec: 378.368\n",
      "INFO:tensorflow:loss = 0.0071900655, step = 24500 (0.264 sec)\n",
      "INFO:tensorflow:global_step/sec: 378.368\n",
      "INFO:tensorflow:loss = 0.03790597, step = 24600 (0.265 sec)\n",
      "INFO:tensorflow:global_step/sec: 376.945\n",
      "INFO:tensorflow:loss = 0.0016768895, step = 24700 (0.264 sec)\n",
      "INFO:tensorflow:global_step/sec: 378.368\n",
      "INFO:tensorflow:loss = 0.010897128, step = 24800 (0.264 sec)\n",
      "INFO:tensorflow:global_step/sec: 376.944\n",
      "INFO:tensorflow:loss = 0.0538978, step = 24900 (0.265 sec)\n",
      "INFO:tensorflow:global_step/sec: 375.534\n",
      "INFO:tensorflow:loss = 0.0069934903, step = 25000 (0.266 sec)\n",
      "INFO:tensorflow:global_step/sec: 375.533\n",
      "INFO:tensorflow:loss = 0.06442529, step = 25100 (0.266 sec)\n",
      "INFO:tensorflow:global_step/sec: 376.945\n",
      "INFO:tensorflow:loss = 0.017335325, step = 25200 (0.265 sec)\n",
      "INFO:tensorflow:global_step/sec: 375.533\n",
      "INFO:tensorflow:loss = 0.025356697, step = 25300 (0.266 sec)\n",
      "INFO:tensorflow:global_step/sec: 376.946\n",
      "INFO:tensorflow:loss = 0.04659126, step = 25400 (0.265 sec)\n",
      "INFO:tensorflow:global_step/sec: 378.366\n",
      "INFO:tensorflow:loss = 0.080338985, step = 25500 (0.264 sec)\n",
      "INFO:tensorflow:global_step/sec: 375.534\n",
      "INFO:tensorflow:loss = 0.046294834, step = 25600 (0.266 sec)\n",
      "INFO:tensorflow:global_step/sec: 374.131\n",
      "INFO:tensorflow:loss = 0.002094738, step = 25700 (0.267 sec)\n",
      "INFO:tensorflow:global_step/sec: 333.114\n",
      "INFO:tensorflow:loss = 0.006814942, step = 25800 (0.300 sec)\n",
      "INFO:tensorflow:global_step/sec: 378.368\n",
      "INFO:tensorflow:loss = 0.031104207, step = 25900 (0.264 sec)\n",
      "INFO:tensorflow:global_step/sec: 376.945\n",
      "INFO:tensorflow:loss = 0.026612483, step = 26000 (0.264 sec)\n",
      "INFO:tensorflow:global_step/sec: 307.569\n",
      "INFO:tensorflow:loss = 0.12634109, step = 26100 (0.328 sec)\n",
      "INFO:tensorflow:global_step/sec: 319.323\n",
      "INFO:tensorflow:loss = 0.07607613, step = 26200 (0.311 sec)\n",
      "INFO:tensorflow:global_step/sec: 346.946\n",
      "INFO:tensorflow:loss = 0.0991406, step = 26300 (0.288 sec)\n",
      "INFO:tensorflow:global_step/sec: 333.114\n",
      "INFO:tensorflow:loss = 0.022270523, step = 26400 (0.300 sec)\n",
      "INFO:tensorflow:global_step/sec: 309.467\n",
      "INFO:tensorflow:loss = 0.0358272, step = 26500 (0.324 sec)\n",
      "INFO:tensorflow:global_step/sec: 302.01\n",
      "INFO:tensorflow:loss = 0.0020302045, step = 26600 (0.330 sec)\n",
      "INFO:tensorflow:global_step/sec: 328.745\n",
      "INFO:tensorflow:loss = 0.019636229, step = 26700 (0.305 sec)\n",
      "INFO:tensorflow:global_step/sec: 368.63\n",
      "INFO:tensorflow:loss = 0.023193015, step = 26800 (0.271 sec)\n",
      "INFO:tensorflow:global_step/sec: 349.363\n",
      "INFO:tensorflow:loss = 0.03259692, step = 26900 (0.285 sec)\n",
      "INFO:tensorflow:global_step/sec: 328.746\n",
      "INFO:tensorflow:loss = 0.0039857663, step = 27000 (0.305 sec)\n",
      "INFO:tensorflow:global_step/sec: 318.309\n",
      "INFO:tensorflow:loss = 0.037513465, step = 27100 (0.313 sec)\n",
      "INFO:tensorflow:global_step/sec: 328.744\n",
      "INFO:tensorflow:loss = 0.04263963, step = 27200 (0.304 sec)\n",
      "INFO:tensorflow:global_step/sec: 333.114\n",
      "INFO:tensorflow:loss = 0.006288089, step = 27300 (0.300 sec)\n",
      "INFO:tensorflow:global_step/sec: 351.816\n",
      "INFO:tensorflow:loss = 0.06892184, step = 27400 (0.284 sec)\n",
      "INFO:tensorflow:global_step/sec: 353.054\n",
      "INFO:tensorflow:loss = 0.0038812435, step = 27500 (0.283 sec)\n",
      "INFO:tensorflow:global_step/sec: 342.209\n",
      "INFO:tensorflow:loss = 0.039217338, step = 27600 (0.292 sec)\n",
      "INFO:tensorflow:global_step/sec: 345.75\n",
      "INFO:tensorflow:loss = 0.03127848, step = 27700 (0.289 sec)\n",
      "INFO:tensorflow:global_step/sec: 353.054\n",
      "INFO:tensorflow:loss = 0.041988723, step = 27800 (0.283 sec)\n",
      "INFO:tensorflow:global_step/sec: 354.3\n",
      "INFO:tensorflow:loss = 0.030173711, step = 27900 (0.282 sec)\n",
      "INFO:tensorflow:global_step/sec: 355.559\n",
      "INFO:tensorflow:loss = 0.0132816415, step = 28000 (0.281 sec)\n",
      "INFO:tensorflow:global_step/sec: 341.046\n",
      "INFO:tensorflow:loss = 0.091422364, step = 28100 (0.294 sec)\n",
      "INFO:tensorflow:global_step/sec: 339.888\n",
      "INFO:tensorflow:loss = 0.020624787, step = 28200 (0.293 sec)\n",
      "INFO:tensorflow:global_step/sec: 338.742\n",
      "INFO:tensorflow:loss = 0.02491738, step = 28300 (0.295 sec)\n",
      "INFO:tensorflow:global_step/sec: 330.916\n",
      "INFO:tensorflow:loss = 0.025444053, step = 28400 (0.302 sec)\n",
      "INFO:tensorflow:global_step/sec: 327.671\n",
      "INFO:tensorflow:loss = 0.026827574, step = 28500 (0.305 sec)\n",
      "INFO:tensorflow:global_step/sec: 330.916\n",
      "INFO:tensorflow:loss = 0.031223208, step = 28600 (0.303 sec)\n",
      "INFO:tensorflow:global_step/sec: 329.826\n",
      "INFO:tensorflow:loss = 0.016645474, step = 28700 (0.303 sec)\n",
      "INFO:tensorflow:global_step/sec: 328.746\n",
      "INFO:tensorflow:loss = 0.022737212, step = 28800 (0.303 sec)\n",
      "INFO:tensorflow:global_step/sec: 326.605\n",
      "INFO:tensorflow:loss = 0.06351956, step = 28900 (0.307 sec)\n",
      "INFO:tensorflow:global_step/sec: 322.403\n",
      "INFO:tensorflow:loss = 0.04553514, step = 29000 (0.309 sec)\n",
      "INFO:tensorflow:global_step/sec: 324.49\n",
      "INFO:tensorflow:loss = 0.03645529, step = 29100 (0.308 sec)\n",
      "INFO:tensorflow:global_step/sec: 326.604\n",
      "INFO:tensorflow:loss = 0.081162214, step = 29200 (0.309 sec)\n",
      "INFO:tensorflow:global_step/sec: 332.011\n",
      "INFO:tensorflow:loss = 0.06816279, step = 29300 (0.298 sec)\n",
      "INFO:tensorflow:global_step/sec: 346.945\n",
      "INFO:tensorflow:loss = 0.03335885, step = 29400 (0.288 sec)\n",
      "INFO:tensorflow:global_step/sec: 344.561\n",
      "INFO:tensorflow:loss = 0.02481648, step = 29500 (0.290 sec)\n",
      "INFO:tensorflow:global_step/sec: 343.382\n",
      "INFO:tensorflow:loss = 0.0065727727, step = 29600 (0.291 sec)\n",
      "INFO:tensorflow:global_step/sec: 334.224\n",
      "INFO:tensorflow:loss = 0.041816782, step = 29700 (0.299 sec)\n",
      "INFO:tensorflow:global_step/sec: 332.011\n",
      "INFO:tensorflow:loss = 0.004446473, step = 29800 (0.301 sec)\n",
      "INFO:tensorflow:global_step/sec: 329.827\n",
      "INFO:tensorflow:loss = 0.033240303, step = 29900 (0.304 sec)\n",
      "INFO:tensorflow:global_step/sec: 325.544\n",
      "INFO:tensorflow:loss = 0.016751595, step = 30000 (0.306 sec)\n",
      "INFO:tensorflow:global_step/sec: 344.561\n",
      "INFO:tensorflow:loss = 0.052681442, step = 30100 (0.290 sec)\n",
      "INFO:tensorflow:global_step/sec: 329.826\n",
      "INFO:tensorflow:loss = 0.042278066, step = 30200 (0.305 sec)\n",
      "INFO:tensorflow:global_step/sec: 309.468\n",
      "INFO:tensorflow:loss = 0.01665866, step = 30300 (0.321 sec)\n"
     ]
    },
    {
     "name": "stdout",
     "output_type": "stream",
     "text": [
      "INFO:tensorflow:global_step/sec: 309.466\n",
      "INFO:tensorflow:loss = 0.015812565, step = 30400 (0.324 sec)\n",
      "INFO:tensorflow:global_step/sec: 300.202\n",
      "INFO:tensorflow:loss = 0.027933652, step = 30500 (0.332 sec)\n",
      "INFO:tensorflow:global_step/sec: 316.3\n",
      "INFO:tensorflow:loss = 0.004055548, step = 30600 (0.317 sec)\n",
      "INFO:tensorflow:global_step/sec: 302.011\n",
      "INFO:tensorflow:loss = 0.014465667, step = 30700 (0.330 sec)\n",
      "INFO:tensorflow:global_step/sec: 308.515\n",
      "INFO:tensorflow:loss = 0.018186554, step = 30800 (0.324 sec)\n",
      "INFO:tensorflow:global_step/sec: 314.317\n",
      "INFO:tensorflow:loss = 0.006797303, step = 30900 (0.318 sec)\n",
      "INFO:tensorflow:global_step/sec: 324.489\n",
      "INFO:tensorflow:loss = 0.025829483, step = 31000 (0.308 sec)\n",
      "INFO:tensorflow:global_step/sec: 271.727\n",
      "INFO:tensorflow:loss = 0.045313265, step = 31100 (0.369 sec)\n",
      "INFO:tensorflow:global_step/sec: 286.479\n",
      "INFO:tensorflow:loss = 0.06845217, step = 31200 (0.348 sec)\n",
      "INFO:tensorflow:global_step/sec: 288.954\n",
      "INFO:tensorflow:loss = 0.02646902, step = 31300 (0.347 sec)\n",
      "INFO:tensorflow:global_step/sec: 300.202\n",
      "INFO:tensorflow:loss = 0.03437552, step = 31400 (0.332 sec)\n",
      "INFO:tensorflow:global_step/sec: 318.309\n",
      "INFO:tensorflow:loss = 0.033616655, step = 31500 (0.315 sec)\n",
      "INFO:tensorflow:global_step/sec: 317.302\n",
      "INFO:tensorflow:loss = 0.026107732, step = 31600 (0.314 sec)\n",
      "INFO:tensorflow:global_step/sec: 322.403\n",
      "INFO:tensorflow:loss = 0.041862004, step = 31700 (0.311 sec)\n",
      "INFO:tensorflow:global_step/sec: 322.403\n",
      "INFO:tensorflow:loss = 0.026381675, step = 31800 (0.310 sec)\n",
      "INFO:tensorflow:global_step/sec: 323.443\n",
      "INFO:tensorflow:loss = 0.0075991955, step = 31900 (0.309 sec)\n",
      "INFO:tensorflow:global_step/sec: 291.471\n",
      "INFO:tensorflow:loss = 0.021273874, step = 32000 (0.344 sec)\n",
      "INFO:tensorflow:global_step/sec: 317.304\n",
      "INFO:tensorflow:loss = 0.00039443115, step = 32100 (0.315 sec)\n",
      "INFO:tensorflow:global_step/sec: 279.297\n",
      "INFO:tensorflow:loss = 0.053293552, step = 32200 (0.356 sec)\n",
      "INFO:tensorflow:global_step/sec: 278.521\n",
      "INFO:tensorflow:loss = 0.01095761, step = 32300 (0.359 sec)\n",
      "INFO:tensorflow:global_step/sec: 290.63\n",
      "INFO:tensorflow:loss = 0.020126704, step = 32400 (0.345 sec)\n",
      "INFO:tensorflow:global_step/sec: 302.01\n",
      "INFO:tensorflow:loss = 0.007827163, step = 32500 (0.331 sec)\n",
      "INFO:tensorflow:global_step/sec: 321.37\n",
      "INFO:tensorflow:loss = 0.023847649, step = 32600 (0.311 sec)\n",
      "INFO:tensorflow:global_step/sec: 336.467\n",
      "INFO:tensorflow:loss = 0.0040879156, step = 32700 (0.297 sec)\n",
      "INFO:tensorflow:global_step/sec: 354.302\n",
      "INFO:tensorflow:loss = 0.028255299, step = 32800 (0.281 sec)\n",
      "INFO:tensorflow:global_step/sec: 344.561\n",
      "INFO:tensorflow:loss = 0.010340336, step = 32900 (0.291 sec)\n",
      "INFO:tensorflow:global_step/sec: 367.28\n",
      "INFO:tensorflow:loss = 0.013015772, step = 33000 (0.271 sec)\n",
      "INFO:tensorflow:global_step/sec: 329.826\n",
      "INFO:tensorflow:loss = 0.012106476, step = 33100 (0.304 sec)\n",
      "INFO:tensorflow:global_step/sec: 343.382\n",
      "INFO:tensorflow:loss = 0.013487233, step = 33200 (0.290 sec)\n",
      "INFO:tensorflow:global_step/sec: 333.114\n",
      "INFO:tensorflow:loss = 0.025667263, step = 33300 (0.301 sec)\n",
      "INFO:tensorflow:global_step/sec: 313.336\n",
      "INFO:tensorflow:loss = 0.002829149, step = 33400 (0.318 sec)\n",
      "INFO:tensorflow:global_step/sec: 323.443\n",
      "INFO:tensorflow:loss = 0.014214134, step = 33500 (0.309 sec)\n",
      "INFO:tensorflow:global_step/sec: 320.343\n",
      "INFO:tensorflow:loss = 0.0062797917, step = 33600 (0.312 sec)\n",
      "INFO:tensorflow:global_step/sec: 321.369\n",
      "INFO:tensorflow:loss = 0.025796086, step = 33700 (0.311 sec)\n",
      "INFO:tensorflow:global_step/sec: 325.54\n",
      "INFO:tensorflow:loss = 0.050045725, step = 33800 (0.308 sec)\n",
      "INFO:tensorflow:global_step/sec: 301.106\n",
      "INFO:tensorflow:loss = 0.015675008, step = 33900 (0.331 sec)\n",
      "INFO:tensorflow:global_step/sec: 310.426\n",
      "INFO:tensorflow:loss = 0.06409421, step = 34000 (0.322 sec)\n",
      "INFO:tensorflow:global_step/sec: 320.343\n",
      "INFO:tensorflow:loss = 0.012982239, step = 34100 (0.312 sec)\n",
      "INFO:tensorflow:global_step/sec: 325.543\n",
      "INFO:tensorflow:loss = 0.029244883, step = 34200 (0.309 sec)\n",
      "INFO:tensorflow:global_step/sec: 319.323\n",
      "INFO:tensorflow:loss = 0.013518656, step = 34300 (0.311 sec)\n",
      "INFO:tensorflow:global_step/sec: 325.543\n",
      "INFO:tensorflow:loss = 0.02081473, step = 34400 (0.307 sec)\n",
      "INFO:tensorflow:global_step/sec: 346.946\n",
      "INFO:tensorflow:loss = 0.00907572, step = 34500 (0.288 sec)\n",
      "INFO:tensorflow:global_step/sec: 346.946\n",
      "INFO:tensorflow:loss = 0.018072926, step = 34600 (0.289 sec)\n",
      "INFO:tensorflow:global_step/sec: 343.382\n",
      "INFO:tensorflow:loss = 0.022009239, step = 34700 (0.291 sec)\n",
      "INFO:tensorflow:global_step/sec: 327.67\n",
      "INFO:tensorflow:loss = 0.01598808, step = 34800 (0.305 sec)\n",
      "INFO:tensorflow:global_step/sec: 321.371\n",
      "INFO:tensorflow:loss = 0.050766964, step = 34900 (0.310 sec)\n",
      "INFO:tensorflow:global_step/sec: 325.543\n",
      "INFO:tensorflow:loss = 0.026673257, step = 35000 (0.309 sec)\n",
      "INFO:tensorflow:global_step/sec: 317.302\n",
      "INFO:tensorflow:loss = 0.06586336, step = 35100 (0.314 sec)\n",
      "INFO:tensorflow:global_step/sec: 320.343\n",
      "INFO:tensorflow:loss = 0.026673257, step = 35200 (0.313 sec)\n",
      "INFO:tensorflow:global_step/sec: 328.745\n",
      "INFO:tensorflow:loss = 0.019781468, step = 35300 (0.303 sec)\n",
      "INFO:tensorflow:global_step/sec: 314.318\n",
      "INFO:tensorflow:loss = 0.012444845, step = 35400 (0.318 sec)\n",
      "INFO:tensorflow:global_step/sec: 315.305\n",
      "INFO:tensorflow:loss = 0.01600784, step = 35500 (0.316 sec)\n",
      "INFO:tensorflow:global_step/sec: 336.469\n",
      "INFO:tensorflow:loss = 0.013220437, step = 35600 (0.298 sec)\n",
      "INFO:tensorflow:global_step/sec: 344.562\n",
      "INFO:tensorflow:loss = 0.037017703, step = 35700 (0.290 sec)\n",
      "INFO:tensorflow:global_step/sec: 337.601\n",
      "INFO:tensorflow:loss = 0.0046736007, step = 35800 (0.297 sec)\n",
      "INFO:tensorflow:global_step/sec: 337.6\n",
      "INFO:tensorflow:loss = 0.027851423, step = 35900 (0.294 sec)\n",
      "INFO:tensorflow:global_step/sec: 333.113\n",
      "INFO:tensorflow:loss = 0.03014916, step = 36000 (0.301 sec)\n",
      "INFO:tensorflow:global_step/sec: 326.604\n",
      "INFO:tensorflow:loss = 0.020456105, step = 36100 (0.306 sec)\n",
      "INFO:tensorflow:global_step/sec: 326.604\n",
      "INFO:tensorflow:loss = 0.032787427, step = 36200 (0.305 sec)\n",
      "INFO:tensorflow:global_step/sec: 329.827\n",
      "INFO:tensorflow:loss = 0.0014924183, step = 36300 (0.303 sec)\n",
      "INFO:tensorflow:global_step/sec: 326.603\n",
      "INFO:tensorflow:loss = 0.03956335, step = 36400 (0.308 sec)\n",
      "INFO:tensorflow:global_step/sec: 326.605\n",
      "INFO:tensorflow:loss = 0.018394267, step = 36500 (0.305 sec)\n",
      "INFO:tensorflow:global_step/sec: 328.746\n",
      "INFO:tensorflow:loss = 0.004082603, step = 36600 (0.303 sec)\n",
      "INFO:tensorflow:global_step/sec: 350.586\n",
      "INFO:tensorflow:loss = 0.004152756, step = 36700 (0.285 sec)\n",
      "INFO:tensorflow:global_step/sec: 354.3\n",
      "INFO:tensorflow:loss = 0.0064514233, step = 36800 (0.283 sec)\n",
      "INFO:tensorflow:global_step/sec: 350.586\n",
      "INFO:tensorflow:loss = 0.017999023, step = 36900 (0.284 sec)\n",
      "INFO:tensorflow:global_step/sec: 356.823\n",
      "INFO:tensorflow:loss = 0.015571296, step = 37000 (0.280 sec)\n",
      "INFO:tensorflow:global_step/sec: 358.098\n",
      "INFO:tensorflow:loss = 0.010946702, step = 37100 (0.280 sec)\n",
      "INFO:tensorflow:global_step/sec: 346.946\n",
      "INFO:tensorflow:loss = 0.018311424, step = 37200 (0.287 sec)\n",
      "INFO:tensorflow:global_step/sec: 350.585\n",
      "INFO:tensorflow:loss = 0.0009243599, step = 37300 (0.285 sec)\n",
      "INFO:tensorflow:global_step/sec: 348.151\n",
      "INFO:tensorflow:loss = 0.031178817, step = 37400 (0.287 sec)\n",
      "INFO:tensorflow:global_step/sec: 348.148\n",
      "INFO:tensorflow:loss = 0.014416104, step = 37500 (0.287 sec)\n",
      "INFO:tensorflow:global_step/sec: 349.365\n",
      "INFO:tensorflow:loss = 0.021330437, step = 37600 (0.286 sec)\n",
      "INFO:tensorflow:global_step/sec: 350.585\n",
      "INFO:tensorflow:loss = 0.016822554, step = 37700 (0.285 sec)\n",
      "INFO:tensorflow:global_step/sec: 349.364\n",
      "INFO:tensorflow:loss = 0.0032299259, step = 37800 (0.287 sec)\n",
      "INFO:tensorflow:global_step/sec: 349.364\n",
      "INFO:tensorflow:loss = 0.017798595, step = 37900 (0.286 sec)\n",
      "INFO:tensorflow:global_step/sec: 345.749\n",
      "INFO:tensorflow:loss = 0.040230915, step = 38000 (0.289 sec)\n",
      "INFO:tensorflow:global_step/sec: 348.15\n",
      "INFO:tensorflow:loss = 0.030993192, step = 38100 (0.286 sec)\n",
      "INFO:tensorflow:global_step/sec: 354.302\n",
      "INFO:tensorflow:loss = 0.02487243, step = 38200 (0.282 sec)\n",
      "INFO:tensorflow:global_step/sec: 350.585\n",
      "INFO:tensorflow:loss = 0.019654578, step = 38300 (0.286 sec)\n",
      "INFO:tensorflow:global_step/sec: 349.364\n",
      "INFO:tensorflow:loss = 0.064132, step = 38400 (0.285 sec)\n"
     ]
    },
    {
     "name": "stdout",
     "output_type": "stream",
     "text": [
      "INFO:tensorflow:global_step/sec: 359.381\n",
      "INFO:tensorflow:loss = 0.014024877, step = 38500 (0.278 sec)\n",
      "INFO:tensorflow:global_step/sec: 355.557\n",
      "INFO:tensorflow:loss = 0.038844857, step = 38600 (0.281 sec)\n",
      "INFO:tensorflow:global_step/sec: 356.823\n",
      "INFO:tensorflow:loss = 0.026166523, step = 38700 (0.281 sec)\n",
      "INFO:tensorflow:global_step/sec: 350.586\n",
      "INFO:tensorflow:loss = 0.006088621, step = 38800 (0.284 sec)\n",
      "INFO:tensorflow:global_step/sec: 356.823\n",
      "INFO:tensorflow:loss = 0.042028088, step = 38900 (0.280 sec)\n",
      "INFO:tensorflow:global_step/sec: 359.382\n",
      "INFO:tensorflow:loss = 0.00639456, step = 39000 (0.278 sec)\n",
      "INFO:tensorflow:global_step/sec: 354.3\n",
      "INFO:tensorflow:loss = 0.03997608, step = 39100 (0.283 sec)\n",
      "INFO:tensorflow:global_step/sec: 355.559\n",
      "INFO:tensorflow:loss = 0.001925181, step = 39200 (0.280 sec)\n",
      "INFO:tensorflow:global_step/sec: 355.558\n",
      "INFO:tensorflow:loss = 0.013645309, step = 39300 (0.281 sec)\n",
      "INFO:tensorflow:global_step/sec: 355.558\n",
      "INFO:tensorflow:loss = 0.0019014158, step = 39400 (0.280 sec)\n",
      "INFO:tensorflow:global_step/sec: 358.097\n",
      "INFO:tensorflow:loss = 0.0029715043, step = 39500 (0.280 sec)\n",
      "INFO:tensorflow:global_step/sec: 355.557\n",
      "INFO:tensorflow:loss = 0.021539396, step = 39600 (0.281 sec)\n",
      "INFO:tensorflow:global_step/sec: 353.056\n",
      "INFO:tensorflow:loss = 0.0043702642, step = 39700 (0.282 sec)\n",
      "INFO:tensorflow:global_step/sec: 353.053\n",
      "INFO:tensorflow:loss = 0.022209331, step = 39800 (0.284 sec)\n",
      "INFO:tensorflow:global_step/sec: 355.558\n",
      "INFO:tensorflow:loss = 0.011666862, step = 39900 (0.281 sec)\n",
      "INFO:tensorflow:global_step/sec: 358.098\n",
      "INFO:tensorflow:loss = 0.016884286, step = 40000 (0.279 sec)\n",
      "INFO:tensorflow:global_step/sec: 354.302\n",
      "INFO:tensorflow:loss = 0.04596365, step = 40100 (0.283 sec)\n",
      "INFO:tensorflow:global_step/sec: 354.301\n",
      "INFO:tensorflow:loss = 0.023859048, step = 40200 (0.281 sec)\n",
      "INFO:tensorflow:global_step/sec: 356.824\n",
      "INFO:tensorflow:loss = 0.017144434, step = 40300 (0.280 sec)\n",
      "INFO:tensorflow:global_step/sec: 355.558\n",
      "INFO:tensorflow:loss = 0.0009561082, step = 40400 (0.281 sec)\n",
      "INFO:tensorflow:global_step/sec: 354.301\n",
      "INFO:tensorflow:loss = 0.025947519, step = 40500 (0.282 sec)\n",
      "INFO:tensorflow:global_step/sec: 353.054\n",
      "INFO:tensorflow:loss = 0.04231386, step = 40600 (0.282 sec)\n",
      "INFO:tensorflow:global_step/sec: 355.558\n",
      "INFO:tensorflow:loss = 0.040706478, step = 40700 (0.282 sec)\n",
      "INFO:tensorflow:global_step/sec: 356.823\n",
      "INFO:tensorflow:loss = 0.011724126, step = 40800 (0.280 sec)\n",
      "INFO:tensorflow:global_step/sec: 355.559\n",
      "INFO:tensorflow:loss = 0.010655427, step = 40900 (0.281 sec)\n",
      "INFO:tensorflow:global_step/sec: 354.301\n",
      "INFO:tensorflow:loss = 0.030496283, step = 41000 (0.282 sec)\n",
      "INFO:tensorflow:global_step/sec: 324.488\n",
      "INFO:tensorflow:loss = 0.009487772, step = 41100 (0.309 sec)\n",
      "INFO:tensorflow:global_step/sec: 316.303\n",
      "INFO:tensorflow:loss = 0.011127326, step = 41200 (0.320 sec)\n",
      "INFO:tensorflow:global_step/sec: 312.359\n",
      "INFO:tensorflow:loss = 0.00314629, step = 41300 (0.316 sec)\n",
      "INFO:tensorflow:global_step/sec: 318.31\n",
      "INFO:tensorflow:loss = 0.009753806, step = 41400 (0.313 sec)\n",
      "INFO:tensorflow:global_step/sec: 335.339\n",
      "INFO:tensorflow:loss = 0.012049099, step = 41500 (0.298 sec)\n",
      "INFO:tensorflow:global_step/sec: 350.588\n",
      "INFO:tensorflow:loss = 0.028308636, step = 41600 (0.286 sec)\n",
      "INFO:tensorflow:global_step/sec: 355.558\n",
      "INFO:tensorflow:loss = 0.024263937, step = 41700 (0.279 sec)\n",
      "INFO:tensorflow:global_step/sec: 355.557\n",
      "INFO:tensorflow:loss = 0.0004691608, step = 41800 (0.282 sec)\n",
      "INFO:tensorflow:global_step/sec: 354.302\n",
      "INFO:tensorflow:loss = 0.016967608, step = 41900 (0.282 sec)\n",
      "INFO:tensorflow:global_step/sec: 358.097\n",
      "INFO:tensorflow:loss = 0.025768906, step = 42000 (0.279 sec)\n",
      "INFO:tensorflow:global_step/sec: 351.816\n",
      "INFO:tensorflow:loss = 0.0030677118, step = 42100 (0.284 sec)\n",
      "INFO:tensorflow:global_step/sec: 354.302\n",
      "INFO:tensorflow:loss = 0.043442305, step = 42200 (0.282 sec)\n",
      "INFO:tensorflow:global_step/sec: 354.301\n",
      "INFO:tensorflow:loss = 0.0048193242, step = 42300 (0.283 sec)\n",
      "INFO:tensorflow:global_step/sec: 354.301\n",
      "INFO:tensorflow:loss = 0.02717027, step = 42400 (0.281 sec)\n",
      "INFO:tensorflow:global_step/sec: 369.991\n",
      "INFO:tensorflow:loss = 0.012256169, step = 42500 (0.270 sec)\n",
      "INFO:tensorflow:global_step/sec: 356.823\n",
      "INFO:tensorflow:loss = 0.017577687, step = 42600 (0.280 sec)\n",
      "INFO:tensorflow:global_step/sec: 351.815\n",
      "INFO:tensorflow:loss = 0.024841892, step = 42700 (0.284 sec)\n",
      "INFO:tensorflow:global_step/sec: 351.814\n",
      "INFO:tensorflow:loss = 0.026789244, step = 42800 (0.283 sec)\n",
      "INFO:tensorflow:global_step/sec: 350.587\n",
      "INFO:tensorflow:loss = 0.014745061, step = 42900 (0.285 sec)\n",
      "INFO:tensorflow:global_step/sec: 354.302\n",
      "INFO:tensorflow:loss = 0.025694586, step = 43000 (0.283 sec)\n",
      "INFO:tensorflow:global_step/sec: 353.053\n",
      "INFO:tensorflow:loss = 0.015926285, step = 43100 (0.284 sec)\n",
      "INFO:tensorflow:global_step/sec: 351.816\n",
      "INFO:tensorflow:loss = 0.00877625, step = 43200 (0.283 sec)\n",
      "INFO:tensorflow:global_step/sec: 353.054\n",
      "INFO:tensorflow:loss = 0.0099052, step = 43300 (0.283 sec)\n",
      "INFO:tensorflow:global_step/sec: 355.559\n",
      "INFO:tensorflow:loss = 0.00412751, step = 43400 (0.281 sec)\n",
      "INFO:tensorflow:global_step/sec: 356.823\n",
      "INFO:tensorflow:loss = 0.053270753, step = 43500 (0.280 sec)\n",
      "INFO:tensorflow:global_step/sec: 358.097\n",
      "INFO:tensorflow:loss = 0.021029469, step = 43600 (0.278 sec)\n",
      "INFO:tensorflow:global_step/sec: 354.302\n",
      "INFO:tensorflow:loss = 0.006754266, step = 43700 (0.283 sec)\n",
      "INFO:tensorflow:global_step/sec: 353.054\n",
      "INFO:tensorflow:loss = 0.00412532, step = 43800 (0.283 sec)\n",
      "INFO:tensorflow:global_step/sec: 353.054\n",
      "INFO:tensorflow:loss = 0.014566573, step = 43900 (0.283 sec)\n",
      "INFO:tensorflow:Saving checkpoints for 44000 into C:\\Users\\User\\AppData\\Local\\Temp\\tmprkxg21fj\\model.ckpt.\n",
      "INFO:tensorflow:Loss for final step: 0.011668225.\n"
     ]
    },
    {
     "data": {
      "text/plain": [
       "<tensorflow.python.estimator.canned.dnn.DNNClassifier at 0x24b0167fdd8>"
      ]
     },
     "execution_count": 8,
     "metadata": {},
     "output_type": "execute_result"
    }
   ],
   "source": [
    "feature_cols = [tf.feature_column.numeric_column(\"X\", shape=[28 * 28])]\n",
    "dnn_clf = tf.estimator.DNNClassifier(hidden_units=[300,100], n_classes=10,\n",
    "                                     feature_columns=feature_cols)\n",
    "\n",
    "input_fn = tf.estimator.inputs.numpy_input_fn(\n",
    "    x={\"X\": X_train}, y=y_train, num_epochs=40, batch_size=50, shuffle=True)\n",
    "dnn_clf.train(input_fn=input_fn)"
   ]
  },
  {
   "cell_type": "markdown",
   "metadata": {},
   "source": [
    "**Résultat sur le jeu de test**"
   ]
  },
  {
   "cell_type": "code",
   "execution_count": 9,
   "metadata": {},
   "outputs": [
    {
     "name": "stdout",
     "output_type": "stream",
     "text": [
      "INFO:tensorflow:Calling model_fn.\n",
      "INFO:tensorflow:Done calling model_fn.\n",
      "INFO:tensorflow:Starting evaluation at 2019-02-08-08:14:38\n",
      "INFO:tensorflow:Graph was finalized.\n",
      "INFO:tensorflow:Restoring parameters from C:\\Users\\User\\AppData\\Local\\Temp\\tmprkxg21fj\\model.ckpt-44000\n",
      "INFO:tensorflow:Running local_init_op.\n",
      "INFO:tensorflow:Done running local_init_op.\n",
      "INFO:tensorflow:Finished evaluation at 2019-02-08-08:14:38\n",
      "INFO:tensorflow:Saving dict for global step 44000: accuracy = 0.9804, average_loss = 0.10328443, global_step = 44000, loss = 13.073979\n",
      "INFO:tensorflow:Saving 'checkpoint_path' summary for global step 44000: C:\\Users\\User\\AppData\\Local\\Temp\\tmprkxg21fj\\model.ckpt-44000\n"
     ]
    }
   ],
   "source": [
    "test_input_fn = tf.estimator.inputs.numpy_input_fn(\n",
    "    x={\"X\": X_test}, y=y_test, shuffle=False)\n",
    "eval_results = dnn_clf.evaluate(input_fn=test_input_fn)"
   ]
  },
  {
   "cell_type": "markdown",
   "metadata": {},
   "source": [
    "**Précision :**"
   ]
  },
  {
   "cell_type": "code",
   "execution_count": 10,
   "metadata": {},
   "outputs": [
    {
     "data": {
      "text/plain": [
       "{'accuracy': 0.9804,\n",
       " 'average_loss': 0.10328443,\n",
       " 'loss': 13.073979,\n",
       " 'global_step': 44000}"
      ]
     },
     "execution_count": 10,
     "metadata": {},
     "output_type": "execute_result"
    }
   ],
   "source": [
    "eval_results"
   ]
  },
  {
   "cell_type": "markdown",
   "metadata": {},
   "source": [
    "**Prédiction :**"
   ]
  },
  {
   "cell_type": "code",
   "execution_count": 11,
   "metadata": {},
   "outputs": [
    {
     "name": "stdout",
     "output_type": "stream",
     "text": [
      "INFO:tensorflow:Calling model_fn.\n",
      "INFO:tensorflow:Done calling model_fn.\n",
      "INFO:tensorflow:Graph was finalized.\n",
      "INFO:tensorflow:Restoring parameters from C:\\Users\\User\\AppData\\Local\\Temp\\tmprkxg21fj\\model.ckpt-44000\n",
      "INFO:tensorflow:Running local_init_op.\n",
      "INFO:tensorflow:Done running local_init_op.\n"
     ]
    },
    {
     "data": {
      "text/plain": [
       "{'logits': array([ -3.8036153,  -3.4456737,   2.2024376,   8.134204 ,  -6.7298393,\n",
       "         -7.4591064, -20.347912 ,  27.689035 ,  -1.3801037,   4.3190436],\n",
       "       dtype=float32),\n",
       " 'probabilities': array([2.1033688e-14, 3.0086241e-14, 8.5371224e-12, 3.2169489e-09,\n",
       "        1.1273838e-15, 5.4369679e-16, 1.3734664e-21, 1.0000000e+00,\n",
       "        2.3737400e-13, 7.0882945e-11], dtype=float32),\n",
       " 'class_ids': array([7], dtype=int64),\n",
       " 'classes': array([b'7'], dtype=object)}"
      ]
     },
     "execution_count": 11,
     "metadata": {},
     "output_type": "execute_result"
    }
   ],
   "source": [
    "y_pred_iter = dnn_clf.predict(input_fn=test_input_fn)\n",
    "y_pred = list(y_pred_iter)\n",
    "y_pred[0]"
   ]
  },
  {
   "cell_type": "markdown",
   "metadata": {},
   "source": [
    "## Avec l'API de base (et une fonction par couche de neurones: dense)"
   ]
  },
  {
   "cell_type": "markdown",
   "metadata": {},
   "source": [
    "## 1_ Phase de Construction"
   ]
  },
  {
   "cell_type": "markdown",
   "metadata": {},
   "source": [
    "### ______ Model du réseaux de neurones ______"
   ]
  },
  {
   "cell_type": "markdown",
   "metadata": {},
   "source": [
    "**Ajout du nbr d'entrée,de sortie, de neurones par couches cachés**"
   ]
  },
  {
   "cell_type": "code",
   "execution_count": 34,
   "metadata": {},
   "outputs": [],
   "source": [
    "import tensorflow as tf\n",
    "\n",
    "n_inputs = 28*28 # MNIST\n",
    "n_hidden1 = 300\n",
    "n_hidden2 = 100\n",
    "n_outputs = 10"
   ]
  },
  {
   "cell_type": "markdown",
   "metadata": {},
   "source": [
    "**Ajout noeud de substitutions avec None car on ne connais pas la taille des lots**"
   ]
  },
  {
   "cell_type": "code",
   "execution_count": 35,
   "metadata": {},
   "outputs": [],
   "source": [
    "reset_graph()\n",
    "\n",
    "# Noeud de substitution pour les données d'entrainements\n",
    "X = tf.placeholder(tf.float32, shape=(None, n_inputs), name=\"X\") # None car on ne sait pas combien d'instances (batch_size?)\n",
    "y = tf.placeholder(tf.int64, shape=(None), name=\"y\") # Noeud de substitution pour les cibles"
   ]
  },
  {
   "cell_type": "markdown",
   "metadata": {},
   "source": [
    "**Ajout des couches : d'entré, cachés et de sortie dans une portée de nom \"dnn\"**"
   ]
  },
  {
   "cell_type": "code",
   "execution_count": 36,
   "metadata": {},
   "outputs": [],
   "source": [
    "with tf.name_scope(\"dnn\"):\n",
    "    hidden1 = tf.layers.dense(X, n_hidden1, name=\"hidden1\", activation=tf.nn.relu)\n",
    "    hidden2 = tf.layers.dense(hidden1, n_hidden2, name=\"hidden2\", activation=tf.nn.relu)\n",
    "    logits = tf.layers.dense(hidden2, n_outputs, name=\"outputs\")\n",
    "    y_proba = tf.nn.softmax(logits)"
   ]
  },
  {
   "cell_type": "markdown",
   "metadata": {},
   "source": [
    "### ______ Fonction de Coût ______"
   ]
  },
  {
   "cell_type": "markdown",
   "metadata": {},
   "source": [
    "**Définition de la fonction de coût: ici cross entropy croisé en mode sparse<br>\n",
    "Ajout d'un summary pour tracker sur Tensorboard**"
   ]
  },
  {
   "cell_type": "code",
   "execution_count": 37,
   "metadata": {},
   "outputs": [],
   "source": [
    "with tf.name_scope(\"loss\"): # portée de nom pour TB\n",
    "    xentropy = tf.nn.sparse_softmax_cross_entropy_with_logits(labels=y, logits=logits)\n",
    "    loss = tf.reduce_mean(xentropy, name=\"loss\")\n",
    "    loss_summary = tf.summary.scalar('log_loss', loss) # summary du loss pourTB"
   ]
  },
  {
   "cell_type": "markdown",
   "metadata": {},
   "source": [
    "### ______ Optimiseur ______"
   ]
  },
  {
   "cell_type": "markdown",
   "metadata": {},
   "source": [
    "**Ajout de l'optimizer et learning_rate**"
   ]
  },
  {
   "cell_type": "code",
   "execution_count": 38,
   "metadata": {},
   "outputs": [],
   "source": [
    "learning_rate = 0.01\n",
    "\n",
    "with tf.name_scope(\"train\"):\n",
    "    optimizer = tf.train.GradientDescentOptimizer(learning_rate)\n",
    "    training_op = optimizer.minimize(loss)"
   ]
  },
  {
   "cell_type": "markdown",
   "metadata": {},
   "source": [
    "### ______ Evaluation ______"
   ]
  },
  {
   "cell_type": "markdown",
   "metadata": {},
   "source": [
    "**Evaluation du modèle**"
   ]
  },
  {
   "cell_type": "code",
   "execution_count": 39,
   "metadata": {},
   "outputs": [],
   "source": [
    "with tf.name_scope(\"eval\"):\n",
    "    correct = tf.nn.in_top_k(logits, y, 1) # récupère les probas et evaluent en logits\n",
    "    accuracy = tf.reduce_mean(tf.cast(correct, tf.float32))\n",
    "    accuracy_summary = tf.summary.scalar('accuracy', accuracy)"
   ]
  },
  {
   "cell_type": "markdown",
   "metadata": {},
   "source": [
    "**Initialisation et sauvegarde**"
   ]
  },
  {
   "cell_type": "code",
   "execution_count": 40,
   "metadata": {},
   "outputs": [],
   "source": [
    "init = tf.global_variables_initializer()\n",
    "saver = tf.train.Saver()"
   ]
  },
  {
   "cell_type": "markdown",
   "metadata": {},
   "source": [
    "**Repectoire pour le tensorboard**"
   ]
  },
  {
   "cell_type": "code",
   "execution_count": 41,
   "metadata": {},
   "outputs": [],
   "source": [
    "from datetime import datetime\n",
    "\n",
    "#Fonction définissant un préfixe pour retrouver facilement le log\n",
    "def log_dir(prefix=\"\"):\n",
    "    now = datetime.utcnow().strftime(\"%Y%m%d%H%M%S\")\n",
    "    root_logdir = \"tensorBoard_summary\"\n",
    "    if prefix:\n",
    "        prefix += \"-\"\n",
    "    name = prefix + \"run-\" + now\n",
    "    return \"{}/{}/\".format(root_logdir, name)"
   ]
  },
  {
   "cell_type": "code",
   "execution_count": 42,
   "metadata": {},
   "outputs": [],
   "source": [
    "logdir = log_dir(\"mnist_PMC\")"
   ]
  },
  {
   "cell_type": "markdown",
   "metadata": {},
   "source": [
    "**Génération du journal TensorBoard**"
   ]
  },
  {
   "cell_type": "code",
   "execution_count": 43,
   "metadata": {},
   "outputs": [],
   "source": [
    "file_writer = tf.summary.FileWriter(logdir, tf.get_default_graph())"
   ]
  },
  {
   "cell_type": "markdown",
   "metadata": {},
   "source": [
    "## 2_Phase d'exécution"
   ]
  },
  {
   "cell_type": "markdown",
   "metadata": {},
   "source": [
    "**Définition du nombre d'époque et de mini lot**"
   ]
  },
  {
   "cell_type": "code",
   "execution_count": 44,
   "metadata": {},
   "outputs": [],
   "source": [
    "n_epochs = 40\n",
    "batch_size = 50"
   ]
  },
  {
   "cell_type": "code",
   "execution_count": 45,
   "metadata": {},
   "outputs": [],
   "source": [
    "def shuffle_batch(X, y, batch_size):\n",
    "    rnd_idx = np.random.permutation(len(X))\n",
    "    n_batches = len(X) // batch_size\n",
    "    for batch_idx in np.array_split(rnd_idx, n_batches):\n",
    "        X_batch, y_batch = X[batch_idx], y[batch_idx]\n",
    "        yield X_batch, y_batch # yield permet de retourner des valeurs qui ne seront lu qu'une fois"
   ]
  },
  {
   "cell_type": "markdown",
   "metadata": {},
   "source": [
    "**Lancement de l'entrainement**"
   ]
  },
  {
   "cell_type": "code",
   "execution_count": 46,
   "metadata": {},
   "outputs": [
    {
     "name": "stdout",
     "output_type": "stream",
     "text": [
      "0 Batch accuracy: 0.9 Val accuracy: 0.9024\n",
      "1 Batch accuracy: 0.92 Val accuracy: 0.9254\n",
      "2 Batch accuracy: 0.94 Val accuracy: 0.9372\n",
      "3 Batch accuracy: 0.9 Val accuracy: 0.9416\n",
      "4 Batch accuracy: 0.94 Val accuracy: 0.9472\n",
      "5 Batch accuracy: 0.94 Val accuracy: 0.9514\n",
      "6 Batch accuracy: 1.0 Val accuracy: 0.9548\n",
      "7 Batch accuracy: 0.94 Val accuracy: 0.961\n",
      "8 Batch accuracy: 0.96 Val accuracy: 0.9622\n",
      "9 Batch accuracy: 0.94 Val accuracy: 0.9648\n",
      "10 Batch accuracy: 0.92 Val accuracy: 0.9656\n",
      "11 Batch accuracy: 0.98 Val accuracy: 0.9668\n",
      "12 Batch accuracy: 0.98 Val accuracy: 0.9686\n",
      "13 Batch accuracy: 0.98 Val accuracy: 0.9704\n",
      "14 Batch accuracy: 1.0 Val accuracy: 0.9696\n",
      "15 Batch accuracy: 0.94 Val accuracy: 0.9718\n",
      "16 Batch accuracy: 0.98 Val accuracy: 0.9726\n",
      "17 Batch accuracy: 1.0 Val accuracy: 0.9728\n",
      "18 Batch accuracy: 0.98 Val accuracy: 0.9748\n",
      "19 Batch accuracy: 0.96 Val accuracy: 0.9756\n",
      "20 Batch accuracy: 1.0 Val accuracy: 0.9748\n",
      "21 Batch accuracy: 1.0 Val accuracy: 0.9734\n",
      "22 Batch accuracy: 0.96 Val accuracy: 0.9752\n",
      "23 Batch accuracy: 0.98 Val accuracy: 0.9768\n",
      "24 Batch accuracy: 0.98 Val accuracy: 0.976\n",
      "25 Batch accuracy: 1.0 Val accuracy: 0.9762\n",
      "26 Batch accuracy: 0.92 Val accuracy: 0.9768\n",
      "27 Batch accuracy: 1.0 Val accuracy: 0.9774\n",
      "28 Batch accuracy: 0.94 Val accuracy: 0.978\n",
      "29 Batch accuracy: 0.98 Val accuracy: 0.9776\n",
      "30 Batch accuracy: 1.0 Val accuracy: 0.9774\n",
      "31 Batch accuracy: 1.0 Val accuracy: 0.9778\n",
      "32 Batch accuracy: 0.96 Val accuracy: 0.9778\n",
      "33 Batch accuracy: 0.98 Val accuracy: 0.9784\n",
      "34 Batch accuracy: 0.98 Val accuracy: 0.978\n",
      "35 Batch accuracy: 1.0 Val accuracy: 0.978\n",
      "36 Batch accuracy: 1.0 Val accuracy: 0.9794\n",
      "37 Batch accuracy: 1.0 Val accuracy: 0.9786\n",
      "38 Batch accuracy: 0.98 Val accuracy: 0.9796\n",
      "39 Batch accuracy: 1.0 Val accuracy: 0.9784\n"
     ]
    }
   ],
   "source": [
    "with tf.Session() as sess:\n",
    "    init.run()\n",
    "    for epoch in range(n_epochs):\n",
    "        for X_batch, y_batch in shuffle_batch(X_train, y_train, batch_size):\n",
    "            sess.run(training_op, feed_dict={X: X_batch, y: y_batch})\n",
    "        accuracy_val, loss_val, accuracy_summary_str, loss_summary_str = sess.run([accuracy, loss, accuracy_summary, loss_summary], feed_dict={X: X_valid, y: y_valid})\n",
    "        file_writer.add_summary(accuracy_summary_str, epoch)\n",
    "        file_writer.add_summary(loss_summary_str, epoch)\n",
    "        acc_batch = accuracy.eval(feed_dict={X: X_batch, y: y_batch})\n",
    "        acc_val = accuracy.eval(feed_dict={X: X_valid, y: y_valid})\n",
    "        print(epoch, \"Batch accuracy:\", acc_batch, \"Val accuracy:\", acc_val)\n",
    "\n",
    "    save_path = saver.save(sess, \"saver_node/2_MNIST_PMC_my_model_final.ckpt\")"
   ]
  },
  {
   "cell_type": "markdown",
   "metadata": {},
   "source": [
    "**Prédiction sur les 20 premiers chiffres**"
   ]
  },
  {
   "cell_type": "code",
   "execution_count": 47,
   "metadata": {},
   "outputs": [
    {
     "name": "stdout",
     "output_type": "stream",
     "text": [
      "INFO:tensorflow:Restoring parameters from saver_node/2_MNIST_PMC_my_model_final.ckpt\n"
     ]
    }
   ],
   "source": [
    "with tf.Session() as sess:\n",
    "    saver.restore(sess, \"saver_node/2_MNIST_PMC_my_model_final.ckpt\") # or better, use save_path\n",
    "    X_new_scaled = X_test[:20]\n",
    "    Z = logits.eval(feed_dict={X: X_new_scaled})\n",
    "    y_pred = np.argmax(Z, axis=1)"
   ]
  },
  {
   "cell_type": "markdown",
   "metadata": {},
   "source": [
    "*Résultat:*"
   ]
  },
  {
   "cell_type": "code",
   "execution_count": 48,
   "metadata": {
    "scrolled": true
   },
   "outputs": [
    {
     "name": "stdout",
     "output_type": "stream",
     "text": [
      "Predicted classes: [7 2 1 0 4 1 4 9 5 9 0 6 9 0 1 5 9 7 3 4]\n",
      "Actual classes:    [7 2 1 0 4 1 4 9 5 9 0 6 9 0 1 5 9 7 3 4]\n"
     ]
    }
   ],
   "source": [
    "print(\"Predicted classes:\", y_pred)\n",
    "print(\"Actual classes:   \", y_test[:20])"
   ]
  },
  {
   "cell_type": "code",
   "execution_count": 49,
   "metadata": {},
   "outputs": [],
   "source": [
    "file_writer.close()"
   ]
  },
  {
   "cell_type": "markdown",
   "metadata": {},
   "source": [
    "# Deep MLP sur the MNIST"
   ]
  },
  {
   "cell_type": "code",
   "execution_count": 38,
   "metadata": {},
   "outputs": [],
   "source": [
    "n_inputs = 28*28  # MNIST\n",
    "n_hidden1 = 300\n",
    "n_hidden2 = 100\n",
    "n_outputs = 10"
   ]
  },
  {
   "cell_type": "code",
   "execution_count": 39,
   "metadata": {},
   "outputs": [],
   "source": [
    "reset_graph()\n",
    "\n",
    "X = tf.placeholder(tf.float32, shape=(None, n_inputs), name=\"X\")\n",
    "y = tf.placeholder(tf.int64, shape=(None), name=\"y\")"
   ]
  },
  {
   "cell_type": "code",
   "execution_count": 40,
   "metadata": {},
   "outputs": [],
   "source": [
    "with tf.name_scope(\"dnn\"):\n",
    "    hidden1 = tf.layers.dense(X, n_hidden1, name=\"hidden1\",\n",
    "                              activation=tf.nn.relu)\n",
    "    hidden2 = tf.layers.dense(hidden1, n_hidden2, name=\"hidden2\",\n",
    "                              activation=tf.nn.relu)\n",
    "    logits = tf.layers.dense(hidden2, n_outputs, name=\"outputs\")"
   ]
  },
  {
   "cell_type": "code",
   "execution_count": 41,
   "metadata": {},
   "outputs": [],
   "source": [
    "with tf.name_scope(\"loss\"):\n",
    "    xentropy = tf.nn.sparse_softmax_cross_entropy_with_logits(labels=y, logits=logits)\n",
    "    loss = tf.reduce_mean(xentropy, name=\"loss\")\n",
    "    loss_summary = tf.summary.scalar('log_loss', loss)"
   ]
  },
  {
   "cell_type": "code",
   "execution_count": 42,
   "metadata": {},
   "outputs": [],
   "source": [
    "learning_rate = 0.01\n",
    "\n",
    "with tf.name_scope(\"train\"):\n",
    "    optimizer = tf.train.GradientDescentOptimizer(learning_rate)\n",
    "    training_op = optimizer.minimize(loss)"
   ]
  },
  {
   "cell_type": "code",
   "execution_count": 43,
   "metadata": {},
   "outputs": [],
   "source": [
    "with tf.name_scope(\"eval\"):\n",
    "    correct = tf.nn.in_top_k(logits, y, 1)\n",
    "    accuracy = tf.reduce_mean(tf.cast(correct, tf.float32))\n",
    "    accuracy_summary = tf.summary.scalar('accuracy', accuracy)"
   ]
  },
  {
   "cell_type": "code",
   "execution_count": 44,
   "metadata": {},
   "outputs": [],
   "source": [
    "init = tf.global_variables_initializer()\n",
    "saver = tf.train.Saver()"
   ]
  },
  {
   "cell_type": "code",
   "execution_count": 45,
   "metadata": {},
   "outputs": [],
   "source": [
    "logdir = log_dir(\"mnist_dnn_2\")"
   ]
  },
  {
   "cell_type": "code",
   "execution_count": 46,
   "metadata": {},
   "outputs": [],
   "source": [
    "file_writer = tf.summary.FileWriter(logdir, tf.get_default_graph())"
   ]
  },
  {
   "cell_type": "code",
   "execution_count": 47,
   "metadata": {},
   "outputs": [],
   "source": [
    "X_valid = mnist.validation.images\n",
    "y_valid = mnist.validation.labels"
   ]
  },
  {
   "cell_type": "code",
   "execution_count": 48,
   "metadata": {},
   "outputs": [],
   "source": [
    "X_train = mnist.train.images\n",
    "m, n = X_train.shape"
   ]
  },
  {
   "cell_type": "code",
   "execution_count": 49,
   "metadata": {},
   "outputs": [
    {
     "name": "stdout",
     "output_type": "stream",
     "text": [
      "Epoch: 0 \tValidation accuracy: 90.440% \tLoss: 0.35228\n",
      "Epoch: 5 \tValidation accuracy: 95.060% \tLoss: 0.17546\n",
      "Epoch: 10 \tValidation accuracy: 96.700% \tLoss: 0.12551\n",
      "Epoch: 15 \tValidation accuracy: 97.240% \tLoss: 0.10431\n",
      "Epoch: 20 \tValidation accuracy: 97.580% \tLoss: 0.08917\n",
      "Epoch: 25 \tValidation accuracy: 97.720% \tLoss: 0.08109\n",
      "Epoch: 30 \tValidation accuracy: 97.780% \tLoss: 0.07784\n",
      "Epoch: 35 \tValidation accuracy: 97.940% \tLoss: 0.07087\n",
      "Epoch: 40 \tValidation accuracy: 97.920% \tLoss: 0.06977\n",
      "Epoch: 45 \tValidation accuracy: 97.880% \tLoss: 0.06774\n",
      "Epoch: 50 \tValidation accuracy: 98.060% \tLoss: 0.06642\n",
      "Epoch: 55 \tValidation accuracy: 98.100% \tLoss: 0.06636\n",
      "Epoch: 60 \tValidation accuracy: 98.160% \tLoss: 0.06513\n",
      "Epoch: 65 \tValidation accuracy: 98.100% \tLoss: 0.06587\n",
      "Epoch: 70 \tValidation accuracy: 98.060% \tLoss: 0.06753\n",
      "Epoch: 75 \tValidation accuracy: 98.140% \tLoss: 0.06702\n",
      "Epoch: 80 \tValidation accuracy: 98.120% \tLoss: 0.06704\n",
      "Epoch: 85 \tValidation accuracy: 98.200% \tLoss: 0.06709\n",
      "Epoch: 90 \tValidation accuracy: 98.200% \tLoss: 0.06697\n",
      "Epoch: 95 \tValidation accuracy: 98.140% \tLoss: 0.06889\n",
      "Epoch: 100 \tValidation accuracy: 98.220% \tLoss: 0.06837\n",
      "Epoch: 105 \tValidation accuracy: 98.100% \tLoss: 0.06891\n",
      "Epoch: 110 \tValidation accuracy: 98.200% \tLoss: 0.06988\n",
      "Epoch: 115 \tValidation accuracy: 98.220% \tLoss: 0.07051\n",
      "Early stopping\n"
     ]
    }
   ],
   "source": [
    "n_epochs = 10001\n",
    "batch_size = 50\n",
    "n_batches = int(np.ceil(m / batch_size))\n",
    "\n",
    "checkpoint_path = \"/tmp/my_deep_mnist_model.ckpt\"\n",
    "checkpoint_epoch_path = checkpoint_path + \".epoch\"\n",
    "final_model_path = \"./my_deep_mnist_model\"\n",
    "\n",
    "best_loss = np.infty\n",
    "epochs_without_progress = 0\n",
    "max_epochs_without_progress = 50\n",
    "\n",
    "with tf.Session() as sess:\n",
    "    if os.path.isfile(checkpoint_epoch_path):\n",
    "        # if the checkpoint file exists, restore the model and load the epoch number\n",
    "        with open(checkpoint_epoch_path, \"rb\") as f:\n",
    "            start_epoch = int(f.read())\n",
    "        print(\"Training was interrupted. Continuing at epoch\", start_epoch)\n",
    "        saver.restore(sess, checkpoint_path)\n",
    "    else:\n",
    "        start_epoch = 0\n",
    "        sess.run(init)\n",
    "\n",
    "    for epoch in range(start_epoch, n_epochs):\n",
    "        for iteration in range(mnist.train.num_examples // batch_size):\n",
    "            X_batch, y_batch = mnist.train.next_batch(batch_size)\n",
    "            sess.run(training_op, feed_dict={X: X_batch, y: y_batch})\n",
    "        accuracy_val, loss_val, accuracy_summary_str, loss_summary_str = sess.run([accuracy, loss, accuracy_summary, loss_summary], feed_dict={X: X_valid, y: y_valid})\n",
    "        file_writer.add_summary(accuracy_summary_str, epoch)\n",
    "        file_writer.add_summary(loss_summary_str, epoch)\n",
    "        if epoch % 5 == 0:\n",
    "            print(\"Epoch:\", epoch,\n",
    "                  \"\\tValidation accuracy: {:.3f}%\".format(accuracy_val * 100),\n",
    "                  \"\\tLoss: {:.5f}\".format(loss_val))\n",
    "            saver.save(sess, checkpoint_path)\n",
    "            with open(checkpoint_epoch_path, \"wb\") as f:\n",
    "                f.write(b\"%d\" % (epoch + 1))\n",
    "            if loss_val < best_loss:\n",
    "                saver.save(sess, final_model_path)\n",
    "                best_loss = loss_val\n",
    "            else:\n",
    "                epochs_without_progress += 5\n",
    "                if epochs_without_progress > max_epochs_without_progress:\n",
    "                    print(\"Early stopping\")\n",
    "                    break"
   ]
  },
  {
   "cell_type": "code",
   "execution_count": 50,
   "metadata": {},
   "outputs": [],
   "source": [
    "os.remove(checkpoint_epoch_path)"
   ]
  },
  {
   "cell_type": "code",
   "execution_count": 51,
   "metadata": {},
   "outputs": [
    {
     "name": "stdout",
     "output_type": "stream",
     "text": [
      "INFO:tensorflow:Restoring parameters from ./my_deep_mnist_model\n"
     ]
    }
   ],
   "source": [
    "X_test = mnist.test.images\n",
    "y_test = mnist.test.labels.astype(\"int\")\n",
    "with tf.Session() as sess:\n",
    "    saver.restore(sess, final_model_path)\n",
    "    accuracy_val = accuracy.eval(feed_dict={X: X_test, y: y_test})"
   ]
  },
  {
   "cell_type": "code",
   "execution_count": 52,
   "metadata": {},
   "outputs": [
    {
     "data": {
      "text/plain": [
       "0.979"
      ]
     },
     "execution_count": 52,
     "metadata": {},
     "output_type": "execute_result"
    }
   ],
   "source": [
    "accuracy_val"
   ]
  },
  {
   "cell_type": "code",
   "execution_count": null,
   "metadata": {},
   "outputs": [],
   "source": []
  }
 ],
 "metadata": {
  "kernelspec": {
   "display_name": "Python 3",
   "language": "python",
   "name": "python3"
  },
  "language_info": {
   "codemirror_mode": {
    "name": "ipython",
    "version": 3
   },
   "file_extension": ".py",
   "mimetype": "text/x-python",
   "name": "python",
   "nbconvert_exporter": "python",
   "pygments_lexer": "ipython3",
   "version": "3.6.8"
  }
 },
 "nbformat": 4,
 "nbformat_minor": 2
}
